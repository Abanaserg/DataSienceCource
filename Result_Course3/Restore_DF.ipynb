{
 "cells": [
  {
   "cell_type": "markdown",
   "metadata": {},
   "source": [
    "# Импортируем необходимые библиотеки:"
   ]
  },
  {
   "cell_type": "code",
   "execution_count": null,
   "metadata": {},
   "outputs": [],
   "source": [
    "import pandas as pd\n",
    "import grequests\n",
    "\n",
    "from bs4 import BeautifulSoup as BS"
   ]
  },
  {
   "cell_type": "code",
   "execution_count": 4,
   "metadata": {},
   "outputs": [],
   "source": [
    "# Create global value for future manipulation\n",
    "counter = 1"
   ]
  },
  {
   "cell_type": "markdown",
   "metadata": {},
   "source": [
    "# Function for connection with web-site and restore data about price and cuisine from it"
   ]
  },
  {
   "cell_type": "code",
   "execution_count": 5,
   "metadata": {},
   "outputs": [],
   "source": [
    "def url_connection(link):\n",
    "    global counter  # Initialisation of global value (counter)\n",
    "\n",
    "    url = 'https://www.tripadvisor.com' + link  # Create a url link\n",
    "    print(counter, url)\n",
    "\n",
    "    # Try to connect with web-site\n",
    "    with grequests.Session() as session:\n",
    "        # Initialisation of header to connect url\n",
    "        session.headers['Accept'] = 'text/html,application/xhtml+xml,application/xml;q=0.9,*/*;q=0.8'\n",
    "        session.headers['User-Agent'] = 'Mozilla/5.0 (Windows NT 10.0; Win64; x64) AppleWebKit/537.36 ' \\\n",
    "                                        '(KHTML, like Gecko) Chrome/91.0.4472.164 Safari/537.36'\n",
    "\n",
    "        # Try to connect with web site. If connection fall, or can't create values, so connection lost and\n",
    "        try:\n",
    "            resp = session.get(url, timeout=5)  # Connect with url with 5 second timeout and create a copy for next pasrser\n",
    "            soup = BS(resp.content, 'html.parser')  # Use method BeautifulSoup\n",
    "            price = soup.find(class_='_2mn01bsa').contents[0]  # Find information about price\n",
    "            cuisine = soup.find('div', {'class': ['_60ofm15k', '_1XLfiSsv']}).contents  #  Find information about cuisine\n",
    "        except:\n",
    "            price = None\n",
    "            cuisine = None\n",
    "            print('no connection/empty data')\n",
    "\n",
    "    counter += 1  # arise counter\n",
    "\n",
    "    price = price if price and ('$' in price) else None  # Test, that information have data about price\n",
    "\n",
    "    print(f'The costs is: {price}. The cuisine of restaurant is {cuisine}')\n",
    "\n",
    "    return [price, cuisine]"
   ]
  },
  {
   "cell_type": "code",
   "execution_count": 6,
   "metadata": {},
   "outputs": [],
   "source": [
    "pd.set_option('display.max_rows', 50)  # Show more rows\n",
    "pd.set_option('display.max_columns', 50)  # Show more columns"
   ]
  },
  {
   "cell_type": "code",
   "execution_count": 7,
   "metadata": {},
   "outputs": [],
   "source": [
    "# Read the file with data set\n",
    "meals_ds = pd.read_csv('./main_task_new.csv')"
   ]
  },
  {
   "cell_type": "code",
   "execution_count": 8,
   "metadata": {},
   "outputs": [],
   "source": [
    "# Create Data frame for the next work. Use only data with empty values in column Price Range and Cuisine Style\n",
    "lost_ds = pd.DataFrame()\n",
    "lost_ds['Restaurant_id'] = meals_ds[(meals_ds['Price Range'].isna()) |\n",
    "                                    (meals_ds['Cuisine Style'].isna())]['Restaurant_id'].copy()\n",
    "lost_ds['index_df'] = meals_ds[(meals_ds['Price Range'].isna()) | (meals_ds['Cuisine Style'].isna())].copy().index"
   ]
  },
  {
   "cell_type": "code",
   "execution_count": 9,
   "metadata": {},
   "outputs": [],
   "source": [
    "# Turn all empty values into None\n",
    "for col in meals_ds.columns:\n",
    "    meals_ds[col] = meals_ds[col].apply(lambda x: None if pd.isnull(x) else x)"
   ]
  },
  {
   "cell_type": "code",
   "execution_count": 10,
   "metadata": {},
   "outputs": [
    {
     "name": "stdout",
     "output_type": "stream",
     "text": [
      "File does not exist\n",
      "Number of url connection is:  13886\n"
     ]
    }
   ],
   "source": [
    "try:\n",
    "    # Try to open file to continue writing data (if file exists)\n",
    "    restore_data = pd.read_csv('./frames.csv', sep='\\t')\n",
    "    f = open('frames.csv', 'a', encoding='utf-8')\n",
    "\n",
    "    # Remove all data analyzed in previous iteration\n",
    "    lost_ds['for_remove'] = [1 if i in restore_data['index_df'].values else 0 for i in lost_ds['index_df'].values]\n",
    "    lost_ds = lost_ds.drop(lost_ds[lost_ds['for_remove'] == 1].index)\n",
    "\n",
    "    print(len(lost_ds), '\\n', lost_ds.head()) # Print data for analyzing the algorithm work\n",
    "\n",
    "except:\n",
    "    # If file does not exist, create one\n",
    "    f = open('frames.csv', 'w', encoding='utf-8')\n",
    "    f.write('index_df\\tRestaurant_id\\tPrice Range\\tCuisine Style\\n')\n",
    "    print('File does not exist')\n",
    "\n",
    "print('Number of url connection is: ', len(lost_ds))"
   ]
  },
  {
   "cell_type": "code",
   "execution_count": null,
   "metadata": {},
   "outputs": [
    {
     "name": "stdout",
     "output_type": "stream",
     "text": [
      "1 https://www.tripadvisor.com/Restaurant_Review-g189852-d7992032-Reviews-Buddha_Nepal-Stockholm.html\n",
      "The costs is: $$ - $$$. The cuisine of restaurant is ['Asian, Nepali']\n",
      "2 https://www.tripadvisor.com/Restaurant_Review-g187323-d1358776-Reviews-Esplanade-Berlin.html\n",
      "no connection/empty data\n",
      "The costs is: None. The cuisine of restaurant is None\n",
      "3 https://www.tripadvisor.com/Restaurant_Review-g189180-d12503536-Reviews-Dick_s_Bar-Porto_Porto_District_Northern_Portugal.html\n"
     ]
    },
    {
     "name": "stderr",
     "output_type": "stream",
     "text": [
      "Traceback (most recent call last):\n",
      "  File \"E:\\Programs\\Anaconda\\lib\\site-packages\\gevent\\_ffi\\loop.py\", line 269, in python_check_callback\n",
      "    def python_check_callback(self, watcher_ptr): # pylint:disable=unused-argument\n",
      "KeyboardInterrupt\n",
      "2021-08-07T21:30:12Z\n"
     ]
    },
    {
     "name": "stdout",
     "output_type": "stream",
     "text": [
      "no connection/empty data\n",
      "The costs is: None. The cuisine of restaurant is None\n",
      "4 https://www.tripadvisor.com/Restaurant_Review-g274924-d3199765-Reviews-Ristorante_Italiano_San_Cono-Bratislava_Bratislava_Region.html\n",
      "The costs is: None. The cuisine of restaurant is ['Italian']\n",
      "5 https://www.tripadvisor.com/Restaurant_Review-g190454-d12845029-Reviews-Grunstern-Vienna.html\n",
      "The costs is: None. The cuisine of restaurant is ['Cafe, European']\n",
      "6 https://www.tripadvisor.com/Restaurant_Review-g187497-d10696479-Reviews-Restaurant_El_Plaer-Barcelona_Catalonia.html\n",
      "The costs is: $. The cuisine of restaurant is ['Spanish, Mediterranean']\n",
      "7 https://www.tripadvisor.com/Restaurant_Review-g187323-d10266473-Reviews-Akira_Sushi_Streetfood-Berlin.html\n",
      "no connection/empty data\n",
      "The costs is: None. The cuisine of restaurant is None\n",
      "8 https://www.tripadvisor.com/Restaurant_Review-g187514-d10058810-Reviews-Bar_Restaurante_El_Diezy7-Madrid.html\n",
      "no connection/empty data\n",
      "The costs is: None. The cuisine of restaurant is None\n",
      "9 https://www.tripadvisor.com/Restaurant_Review-g187514-d10060659-Reviews-Gaditaun-Madrid.html\n",
      "The costs is: $$ - $$$. The cuisine of restaurant is ['Spanish, Wine Bar']\n",
      "10 https://www.tripadvisor.com/Restaurant_Review-g274887-d11616946-Reviews-Pajtas_Onkiszolgalo_Etterem-Budapest_Central_Hungary.html\n",
      "no connection/empty data\n",
      "The costs is: None. The cuisine of restaurant is None\n",
      "11 https://www.tripadvisor.com/Restaurant_Review-g187147-d2040769-Reviews-Le_Paradis-Paris_Ile_de_France.html\n",
      "no connection/empty data\n",
      "The costs is: None. The cuisine of restaurant is None\n",
      "12 https://www.tripadvisor.com/Restaurant_Review-g187514-d5776152-Reviews-Argayo-Madrid.html\n",
      "The costs is: $. The cuisine of restaurant is ['Bar, Spanish, Pub, Mediterranean']\n",
      "13 https://www.tripadvisor.com/Restaurant_Review-g189541-d11841754-Reviews-Cafe_Phenix-Copenhagen_Zealand.html\n",
      "The costs is: $$ - $$$. The cuisine of restaurant is ['American, Diner, European']\n",
      "14 https://www.tripadvisor.com/Restaurant_Review-g274887-d8791087-Reviews-Bunny_Chinese_Fast_Food-Budapest_Central_Hungary.html\n",
      "no connection/empty data\n",
      "The costs is: None. The cuisine of restaurant is None\n",
      "15 https://www.tripadvisor.com/Restaurant_Review-g187265-d3543959-Reviews-Vietnam_City-Lyon_Rhone_Auvergne_Rhone_Alpes.html\n"
     ]
    }
   ],
   "source": [
    "# Cycle for writing data into file\n",
    "for index in lost_ds.index:\n",
    "    data_frame = url_connection(meals_ds.iloc[index]['URL_TA'])\n",
    "    f.write(str(index) + '\\t' + str(meals_ds.iloc[index]['Restaurant_id']) + '\\t' + str(data_frame[0]) + '\\t'\n",
    "            + str(data_frame[1]) + '\\n')\n",
    "\n",
    "    # Every 100 iterations file open and close for exception to lost data\n",
    "    if counter % 100 == 0:\n",
    "        f.close()\n",
    "        f = open('frames.csv', 'a', encoding='utf-8')\n",
    "\n",
    "    # Every 1000 iterations make a decision, continue or break the cycle\n",
    "    if counter % 1000 == 0:\n",
    "        continue_ = input('Do you want to continue (y/n): ')\n",
    "        if continue_ in 'Nn':\n",
    "            break\n",
    "\n",
    "f.close() # close the file"
   ]
  },
  {
   "cell_type": "code",
   "execution_count": null,
   "metadata": {},
   "outputs": [],
   "source": []
  }
 ],
 "metadata": {
  "kernelspec": {
   "display_name": "Python 3",
   "language": "python",
   "name": "python3"
  },
  "language_info": {
   "codemirror_mode": {
    "name": "ipython",
    "version": 3
   },
   "file_extension": ".py",
   "mimetype": "text/x-python",
   "name": "python",
   "nbconvert_exporter": "python",
   "pygments_lexer": "ipython3",
   "version": "3.8.5"
  }
 },
 "nbformat": 4,
 "nbformat_minor": 4
}
