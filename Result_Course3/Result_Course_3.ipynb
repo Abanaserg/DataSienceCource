{
 "cells": [
  {
   "cell_type": "markdown",
   "metadata": {},
   "source": [
    "# Загрузка Модулей и очистка данных"
   ]
  },
  {
   "cell_type": "code",
   "execution_count": 1,
   "metadata": {},
   "outputs": [],
   "source": [
    "import numpy as np  # Library for work with numerical data and matrix\n",
    "import pandas as pd  # Library for work with data sets\n",
    "import seaborn as sns  # Library for graphical presentation of data\n",
    "\n",
    "# Импортируем необходимые библиотеки:\n",
    "from IPython.display import display  # Display data\n",
    "from pandas.core.common import flatten  # For turning series of list into array\n",
    "from datetime import datetime  # Module for working with dates and time\n",
    "from textblob import TextBlob as tb  # Module for sentimental text analysis\n",
    "from sklearn.model_selection import train_test_split  # Загружаем специальный инструмент для разбивки:\n",
    "from sklearn.ensemble import RandomForestRegressor  # инструмент для создания и обучения модели\n",
    "from sklearn import metrics  # инструменты для оценки точности модели"
   ]
  },
  {
   "cell_type": "markdown",
   "metadata": {},
   "source": [
    "# Function for turning string into list, divided with ','. Result of function is list or None value"
   ]
  },
  {
   "cell_type": "code",
   "execution_count": 2,
   "metadata": {},
   "outputs": [],
   "source": [
    "def str_to_list(value):\n",
    "    if pd.isna(value):\n",
    "        return None  # If value is empty, return None for future analysis\n",
    "\n",
    "    value = value.strip('[\"]')  # remove ], \" and [\n",
    "    value = value.replace(\"'\", \"\")  # correct removal of symbol '\n",
    "    for key, dic_val in replace_dic.items():  # replace values with dictionary key words\n",
    "        value = value.replace(key, dic_val)\n",
    "    value = value.split(', ')  # split string by , and space\n",
    "    value = list(map(lambda x: x if x else None, value))  # replace empty values in list with None\n",
    "    value = list(filter(None.__ne__, value)) # Remove None values from list\n",
    "    \n",
    "    if pd.isna(value).all():  # If all values in list are empty, turn list into None value\n",
    "        value = None\n",
    "\n",
    "    return value"
   ]
  },
  {
   "cell_type": "markdown",
   "metadata": {},
   "source": [
    "# Function for split reviews column for lists with reviews (string) and dates (datetime)"
   ]
  },
  {
   "cell_type": "code",
   "execution_count": 3,
   "metadata": {},
   "outputs": [],
   "source": [
    "def reviews_splitting(value):\n",
    "    \n",
    "    value=value.split('], [')\n",
    "    reviews_list = str_to_list(value[0])  # Turn to list string with reviews\n",
    "    date_list = str_to_list(value[1])  # Turn to list dates of reviews\n",
    "\n",
    "    # If type of values is list, turn values into format datetime\n",
    "    if type(date_list) is list:\n",
    "        date_list = list(map(lambda x: None if pd.isna(x) else datetime.strptime(x, '%m/%d/%Y'), date_list))\n",
    "\n",
    "    return [reviews_list, date_list]"
   ]
  },
  {
   "cell_type": "markdown",
   "metadata": {},
   "source": [
    "# Function for filling dummies of cuisine data set. If values in cell is None, don't change it"
   ]
  },
  {
   "cell_type": "code",
   "execution_count": 4,
   "metadata": {},
   "outputs": [],
   "source": [
    "def find_item(cell):\n",
    "    try:\n",
    "        if item in cell:\n",
    "            return 1\n",
    "        return 0\n",
    "    except:\n",
    "        return None"
   ]
  },
  {
   "cell_type": "markdown",
   "metadata": {},
   "source": [
    "# Function for finding most popular cuisine for chosen city for next replacement"
   ]
  },
  {
   "cell_type": "code",
   "execution_count": 5,
   "metadata": {},
   "outputs": [],
   "source": [
    "def pop_cuisine(city):\n",
    "    max_ = 0\n",
    "    indexes = meals_ds[meals_ds['City'] == city].index  # Find index for all elements with chosen city\n",
    "    for cuisine in cuisine_set:  # Go through all cuisines in Data set\n",
    "        sum_ = meals_ds.loc[indexes, cuisine].sum()\n",
    "        if sum_ > max_:\n",
    "            max_ = sum_\n",
    "            cuisine_ = cuisine\n",
    "\n",
    "    return cuisine_\n"
   ]
  },
  {
   "cell_type": "markdown",
   "metadata": {},
   "source": [
    "# Function for computation types of reviews (negative, neutral, positive)"
   ]
  },
  {
   "cell_type": "code",
   "execution_count": 6,
   "metadata": {},
   "outputs": [],
   "source": [
    "\n",
    "def review_type(reviews):\n",
    "    review_count = [0, 0, 0]\n",
    "    if not (reviews is None):\n",
    "\n",
    "        for review in reviews:\n",
    "            analysi = tb(reviews).sentiment\n",
    "\n",
    "            if analysis[0] > 0.33:  # positive review\n",
    "                review_count[2] += 1\n",
    "            elif analysis[0] < -0.33:  # negative review\n",
    "                review_count[0] += 1\n",
    "            else:\n",
    "                review_count[1] += 1  # neutral review\n",
    "\n",
    "    return review_count"
   ]
  },
  {
   "cell_type": "markdown",
   "metadata": {},
   "source": [
    "# Function for computation types of reviews (negative, neutral, positive)"
   ]
  },
  {
   "cell_type": "code",
   "execution_count": 7,
   "metadata": {},
   "outputs": [],
   "source": [
    "def review_type(reviews):\n",
    "    review_count = [0, 0, 0]\n",
    "    if not (reviews is None):\n",
    "\n",
    "        for reviews in reviews:\n",
    "            analysis = tb(reviews).sentiment\n",
    "\n",
    "            if analysis[0] > 0.33:  # positive review\n",
    "                review_count[2] += 1\n",
    "            elif analysis[0] < -0.33:  # negative review\n",
    "                review_count[0] += 1\n",
    "            else:\n",
    "                review_count[1] += 1  # neutral review\n",
    "\n",
    "    return review_count"
   ]
  },
  {
   "cell_type": "markdown",
   "metadata": {},
   "source": [
    "# Function for finding last date of review (if it exists)"
   ]
  },
  {
   "cell_type": "code",
   "execution_count": 8,
   "metadata": {},
   "outputs": [],
   "source": [
    "def last_review(date_list):\n",
    "    if (date_list is None) or date_list == 0:\n",
    "        return 0\n",
    "    elif type(date_list) is list:\n",
    "        return int(max(date_list).timestamp())\n",
    "    else:\n",
    "        return int(date_list.timestamp())"
   ]
  },
  {
   "cell_type": "markdown",
   "metadata": {},
   "source": [
    "# Creating dictionary for replacement values in column price range"
   ]
  },
  {
   "cell_type": "code",
   "execution_count": 9,
   "metadata": {},
   "outputs": [],
   "source": [
    "dict_price = {\n",
    "    '$': 0,\n",
    "    '$$ - $$$': 1,\n",
    "    '$$$$': 2\n",
    "}"
   ]
  },
  {
   "cell_type": "markdown",
   "metadata": {},
   "source": [
    "# Creating dictionary for future replacement in cuisine style set (for cuisines, that number too small)"
   ]
  },
  {
   "cell_type": "code",
   "execution_count": 10,
   "metadata": {},
   "outputs": [],
   "source": [
    "replace_dic = {\n",
    "    'Accepts American Express': 'Accepts Cards',\n",
    "    'Gift Cards Available': 'Accepts Cards',\n",
    "    'Accepts Credit Cards': 'Accepts Cards',\n",
    "    'Accepts Discover': 'Accepts Cards',\n",
    "    'Accepts Mastercard': 'Accepts Cards',\n",
    "    'Accepts Visa': 'Accepts Cards',\n",
    "    'Highchairs Available': 'Wheelchair Accessible',\n",
    "    'Japanese Fusion': 'Japanese',\n",
    "    'Japanese sweets parlour': 'Japanese',\n",
    "    'Latvian': 'Balti',\n",
    "    'Romagna': 'Italian',\n",
    "    'Romana': 'Italian',\n",
    "    'Tuscan': 'Italian',\n",
    "    'Xinjiang': 'Chinese',\n",
    "    'Yunnan': 'Chinese',\n",
    "    'Central-Italian': 'Italian',\n",
    "    'Buffet': 'Cafe',\n",
    "    'Catalan': 'Spanish',\n",
    "    'Dining bars': 'Bar',\n",
    "    'Emilian': 'Italian',\n",
    "    'Fujian': 'Chinese',\n",
    "    'Northern-Italian': 'Italian',\n",
    "    'Welsh': 'British',\n",
    "    'Afghani': 'Central Asian',\n",
    "    'Armenian': 'Central Asian',\n",
    "    'Azerbaijani': 'Central Asian',\n",
    "    'Caucasian': 'Central Asian',\n",
    "    'Georgian': 'Central Asian',\n",
    "    'Uzbek': 'Central Asian',\n",
    "    'Calabrian': 'Italian',\n",
    "    'Campania': 'Italian',\n",
    "    'Chilean': 'South American',\n",
    "    'Southern-Italian': 'Italian',\n",
    "    'Sicilian': 'Italian',\n",
    "    'Salvadoran': 'South American',\n",
    "    'Lazio': 'Italian',\n",
    "    'Canadian': 'American',\n",
    "    'Ecuadorean': 'South American',\n",
    "    'Albanian': 'Central European',\n",
    "    'New Zealand': 'Australian',\n",
    "    'Minority Chinese': 'Chinese',\n",
    "    'Neapolitan': 'Italian',\n",
    "    'Beer restaurants': 'Bar',\n",
    "    'Wine and Beer': 'Bar',\n",
    "    'Full Bar': 'Bar',\n",
    "    'Serves Alcohol': 'Bar',\n",
    "    'Drinks': 'Bar',\n",
    "    'Filipino': 'Australian',\n",
    "    'Mongolian': 'Central Asian',\n",
    "    'Southwestern': 'Mexican',\n",
    "    'Ukrainian': 'Eastern European',\n",
    "    'Russian': 'Eastern European',\n",
    "    'Egyptian': 'African',\n",
    "    'Deli': 'Indian',\n",
    "    'Singaporean': 'Asian',\n",
    "    'Cambodian': 'Asian',\n",
    "    'Cuban': 'South American',\n",
    "    'Jamaican': 'South American',\n",
    "    'Colombian': 'South American',\n",
    "    'Slovenian': 'Eastern European',\n",
    "    'Tibetan': 'Nepali',\n",
    "    'Sri Lankan': 'Asian',\n",
    "    'Taiwanese': 'Asian',\n",
    "    'Tunisian': 'African',\n",
    "    'Malaysian': 'Asian',\n",
    "    'Ethiopian': 'African',\n",
    "    'Croatian': 'Central European',\n",
    "    'Indonesian': 'Asian',\n",
    "    'Brazilian': 'South American',\n",
    "    'Peruvian': 'South American'\n",
    "}"
   ]
  },
  {
   "cell_type": "code",
   "execution_count": 11,
   "metadata": {},
   "outputs": [
    {
     "name": "stdout",
     "output_type": "stream",
     "text": [
      "Read the file main_task_new.csv\n"
     ]
    }
   ],
   "source": [
    "pd.set_option('display.max_rows', 250)  # Show more rows\n",
    "pd.set_option('display.max_columns', 250)  # Show more columns\n",
    "\n",
    "# Read the file with data set\n",
    "print('Read the file main_task_new.csv')\n",
    "meals_ds = pd.read_csv('main_task_new.csv')"
   ]
  },
  {
   "cell_type": "code",
   "execution_count": 12,
   "metadata": {},
   "outputs": [
    {
     "name": "stdout",
     "output_type": "stream",
     "text": [
      "Turn all empty data into None\n"
     ]
    }
   ],
   "source": [
    "# Turn all empty values into \"None\"\n",
    "print('Turn all empty data into None')\n",
    "for col in meals_ds.columns:\n",
    "    meals_ds[col] = meals_ds[col].apply(lambda x: None if pd.isnull(x) else x)"
   ]
  },
  {
   "cell_type": "code",
   "execution_count": 13,
   "metadata": {},
   "outputs": [
    {
     "name": "stdout",
     "output_type": "stream",
     "text": [
      "Display information (count of unique values) about every column in data set\n"
     ]
    },
    {
     "data": {
      "text/plain": [
       "'Counts of uniqe values of column \"Restaurant_id\"\\n'"
      ]
     },
     "metadata": {},
     "output_type": "display_data"
    },
    {
     "data": {
      "text/html": [
       "<div>\n",
       "<style scoped>\n",
       "    .dataframe tbody tr th:only-of-type {\n",
       "        vertical-align: middle;\n",
       "    }\n",
       "\n",
       "    .dataframe tbody tr th {\n",
       "        vertical-align: top;\n",
       "    }\n",
       "\n",
       "    .dataframe thead th {\n",
       "        text-align: right;\n",
       "    }\n",
       "</style>\n",
       "<table border=\"1\" class=\"dataframe\">\n",
       "  <thead>\n",
       "    <tr style=\"text-align: right;\">\n",
       "      <th></th>\n",
       "      <th>Restaurant_id</th>\n",
       "    </tr>\n",
       "  </thead>\n",
       "  <tbody>\n",
       "    <tr>\n",
       "      <th>id_633</th>\n",
       "      <td>18</td>\n",
       "    </tr>\n",
       "    <tr>\n",
       "      <th>id_436</th>\n",
       "      <td>18</td>\n",
       "    </tr>\n",
       "    <tr>\n",
       "      <th>id_227</th>\n",
       "      <td>18</td>\n",
       "    </tr>\n",
       "    <tr>\n",
       "      <th>id_871</th>\n",
       "      <td>18</td>\n",
       "    </tr>\n",
       "    <tr>\n",
       "      <th>id_430</th>\n",
       "      <td>17</td>\n",
       "    </tr>\n",
       "    <tr>\n",
       "      <th>...</th>\n",
       "      <td>...</td>\n",
       "    </tr>\n",
       "    <tr>\n",
       "      <th>id_8716</th>\n",
       "      <td>1</td>\n",
       "    </tr>\n",
       "    <tr>\n",
       "      <th>id_14532</th>\n",
       "      <td>1</td>\n",
       "    </tr>\n",
       "    <tr>\n",
       "      <th>id_9738</th>\n",
       "      <td>1</td>\n",
       "    </tr>\n",
       "    <tr>\n",
       "      <th>id_11559</th>\n",
       "      <td>1</td>\n",
       "    </tr>\n",
       "    <tr>\n",
       "      <th>id_6057</th>\n",
       "      <td>1</td>\n",
       "    </tr>\n",
       "  </tbody>\n",
       "</table>\n",
       "<p>11909 rows × 1 columns</p>\n",
       "</div>"
      ],
      "text/plain": [
       "          Restaurant_id\n",
       "id_633               18\n",
       "id_436               18\n",
       "id_227               18\n",
       "id_871               18\n",
       "id_430               17\n",
       "...                 ...\n",
       "id_8716               1\n",
       "id_14532              1\n",
       "id_9738               1\n",
       "id_11559              1\n",
       "id_6057               1\n",
       "\n",
       "[11909 rows x 1 columns]"
      ]
     },
     "metadata": {},
     "output_type": "display_data"
    },
    {
     "data": {
      "text/plain": [
       "'Counts of uniqe values of column \"City\"\\n'"
      ]
     },
     "metadata": {},
     "output_type": "display_data"
    },
    {
     "data": {
      "text/html": [
       "<div>\n",
       "<style scoped>\n",
       "    .dataframe tbody tr th:only-of-type {\n",
       "        vertical-align: middle;\n",
       "    }\n",
       "\n",
       "    .dataframe tbody tr th {\n",
       "        vertical-align: top;\n",
       "    }\n",
       "\n",
       "    .dataframe thead th {\n",
       "        text-align: right;\n",
       "    }\n",
       "</style>\n",
       "<table border=\"1\" class=\"dataframe\">\n",
       "  <thead>\n",
       "    <tr style=\"text-align: right;\">\n",
       "      <th></th>\n",
       "      <th>City</th>\n",
       "    </tr>\n",
       "  </thead>\n",
       "  <tbody>\n",
       "    <tr>\n",
       "      <th>London</th>\n",
       "      <td>5757</td>\n",
       "    </tr>\n",
       "    <tr>\n",
       "      <th>Paris</th>\n",
       "      <td>4897</td>\n",
       "    </tr>\n",
       "    <tr>\n",
       "      <th>Madrid</th>\n",
       "      <td>3108</td>\n",
       "    </tr>\n",
       "    <tr>\n",
       "      <th>Barcelona</th>\n",
       "      <td>2734</td>\n",
       "    </tr>\n",
       "    <tr>\n",
       "      <th>Berlin</th>\n",
       "      <td>2155</td>\n",
       "    </tr>\n",
       "    <tr>\n",
       "      <th>Milan</th>\n",
       "      <td>2133</td>\n",
       "    </tr>\n",
       "    <tr>\n",
       "      <th>Rome</th>\n",
       "      <td>2078</td>\n",
       "    </tr>\n",
       "    <tr>\n",
       "      <th>Prague</th>\n",
       "      <td>1443</td>\n",
       "    </tr>\n",
       "    <tr>\n",
       "      <th>Lisbon</th>\n",
       "      <td>1300</td>\n",
       "    </tr>\n",
       "    <tr>\n",
       "      <th>Vienna</th>\n",
       "      <td>1166</td>\n",
       "    </tr>\n",
       "    <tr>\n",
       "      <th>Amsterdam</th>\n",
       "      <td>1086</td>\n",
       "    </tr>\n",
       "    <tr>\n",
       "      <th>Brussels</th>\n",
       "      <td>1060</td>\n",
       "    </tr>\n",
       "    <tr>\n",
       "      <th>Hamburg</th>\n",
       "      <td>949</td>\n",
       "    </tr>\n",
       "    <tr>\n",
       "      <th>Munich</th>\n",
       "      <td>893</td>\n",
       "    </tr>\n",
       "    <tr>\n",
       "      <th>Lyon</th>\n",
       "      <td>892</td>\n",
       "    </tr>\n",
       "    <tr>\n",
       "      <th>Stockholm</th>\n",
       "      <td>820</td>\n",
       "    </tr>\n",
       "    <tr>\n",
       "      <th>Budapest</th>\n",
       "      <td>816</td>\n",
       "    </tr>\n",
       "    <tr>\n",
       "      <th>Warsaw</th>\n",
       "      <td>727</td>\n",
       "    </tr>\n",
       "    <tr>\n",
       "      <th>Dublin</th>\n",
       "      <td>673</td>\n",
       "    </tr>\n",
       "    <tr>\n",
       "      <th>Copenhagen</th>\n",
       "      <td>659</td>\n",
       "    </tr>\n",
       "    <tr>\n",
       "      <th>Athens</th>\n",
       "      <td>628</td>\n",
       "    </tr>\n",
       "    <tr>\n",
       "      <th>Edinburgh</th>\n",
       "      <td>596</td>\n",
       "    </tr>\n",
       "    <tr>\n",
       "      <th>Zurich</th>\n",
       "      <td>538</td>\n",
       "    </tr>\n",
       "    <tr>\n",
       "      <th>Oporto</th>\n",
       "      <td>513</td>\n",
       "    </tr>\n",
       "    <tr>\n",
       "      <th>Geneva</th>\n",
       "      <td>481</td>\n",
       "    </tr>\n",
       "    <tr>\n",
       "      <th>Krakow</th>\n",
       "      <td>443</td>\n",
       "    </tr>\n",
       "    <tr>\n",
       "      <th>Oslo</th>\n",
       "      <td>385</td>\n",
       "    </tr>\n",
       "    <tr>\n",
       "      <th>Helsinki</th>\n",
       "      <td>376</td>\n",
       "    </tr>\n",
       "    <tr>\n",
       "      <th>Bratislava</th>\n",
       "      <td>301</td>\n",
       "    </tr>\n",
       "    <tr>\n",
       "      <th>Luxembourg</th>\n",
       "      <td>210</td>\n",
       "    </tr>\n",
       "    <tr>\n",
       "      <th>Ljubljana</th>\n",
       "      <td>183</td>\n",
       "    </tr>\n",
       "  </tbody>\n",
       "</table>\n",
       "</div>"
      ],
      "text/plain": [
       "            City\n",
       "London      5757\n",
       "Paris       4897\n",
       "Madrid      3108\n",
       "Barcelona   2734\n",
       "Berlin      2155\n",
       "Milan       2133\n",
       "Rome        2078\n",
       "Prague      1443\n",
       "Lisbon      1300\n",
       "Vienna      1166\n",
       "Amsterdam   1086\n",
       "Brussels    1060\n",
       "Hamburg      949\n",
       "Munich       893\n",
       "Lyon         892\n",
       "Stockholm    820\n",
       "Budapest     816\n",
       "Warsaw       727\n",
       "Dublin       673\n",
       "Copenhagen   659\n",
       "Athens       628\n",
       "Edinburgh    596\n",
       "Zurich       538\n",
       "Oporto       513\n",
       "Geneva       481\n",
       "Krakow       443\n",
       "Oslo         385\n",
       "Helsinki     376\n",
       "Bratislava   301\n",
       "Luxembourg   210\n",
       "Ljubljana    183"
      ]
     },
     "metadata": {},
     "output_type": "display_data"
    },
    {
     "data": {
      "text/plain": [
       "'Counts of uniqe values of column \"Cuisine Style\"\\n'"
      ]
     },
     "metadata": {},
     "output_type": "display_data"
    },
    {
     "data": {
      "text/html": [
       "<div>\n",
       "<style scoped>\n",
       "    .dataframe tbody tr th:only-of-type {\n",
       "        vertical-align: middle;\n",
       "    }\n",
       "\n",
       "    .dataframe tbody tr th {\n",
       "        vertical-align: top;\n",
       "    }\n",
       "\n",
       "    .dataframe thead th {\n",
       "        text-align: right;\n",
       "    }\n",
       "</style>\n",
       "<table border=\"1\" class=\"dataframe\">\n",
       "  <thead>\n",
       "    <tr style=\"text-align: right;\">\n",
       "      <th></th>\n",
       "      <th>Cuisine Style</th>\n",
       "    </tr>\n",
       "  </thead>\n",
       "  <tbody>\n",
       "    <tr>\n",
       "      <th>['Italian']</th>\n",
       "      <td>1032</td>\n",
       "    </tr>\n",
       "    <tr>\n",
       "      <th>['French']</th>\n",
       "      <td>805</td>\n",
       "    </tr>\n",
       "    <tr>\n",
       "      <th>['Spanish']</th>\n",
       "      <td>695</td>\n",
       "    </tr>\n",
       "    <tr>\n",
       "      <th>['French', 'European']</th>\n",
       "      <td>405</td>\n",
       "    </tr>\n",
       "    <tr>\n",
       "      <th>['Cafe']</th>\n",
       "      <td>403</td>\n",
       "    </tr>\n",
       "    <tr>\n",
       "      <th>...</th>\n",
       "      <td>...</td>\n",
       "    </tr>\n",
       "    <tr>\n",
       "      <th>['European', 'Spanish', 'Vegetarian Friendly', 'Vegan Options', 'Gluten Free Options']</th>\n",
       "      <td>1</td>\n",
       "    </tr>\n",
       "    <tr>\n",
       "      <th>['Brew Pub', 'French']</th>\n",
       "      <td>1</td>\n",
       "    </tr>\n",
       "    <tr>\n",
       "      <th>['Bar', 'Cafe', 'Asian', 'Pub', 'Fusion']</th>\n",
       "      <td>1</td>\n",
       "    </tr>\n",
       "    <tr>\n",
       "      <th>['European', 'Turkish', 'Greek', 'Hungarian']</th>\n",
       "      <td>1</td>\n",
       "    </tr>\n",
       "    <tr>\n",
       "      <th>['French', 'Contemporary', 'Fusion', 'Gastropub']</th>\n",
       "      <td>1</td>\n",
       "    </tr>\n",
       "  </tbody>\n",
       "</table>\n",
       "<p>9007 rows × 1 columns</p>\n",
       "</div>"
      ],
      "text/plain": [
       "                                                    Cuisine Style\n",
       "['Italian']                                                  1032\n",
       "['French']                                                    805\n",
       "['Spanish']                                                   695\n",
       "['French', 'European']                                        405\n",
       "['Cafe']                                                      403\n",
       "...                                                           ...\n",
       "['European', 'Spanish', 'Vegetarian Friendly', ...              1\n",
       "['Brew Pub', 'French']                                          1\n",
       "['Bar', 'Cafe', 'Asian', 'Pub', 'Fusion']                       1\n",
       "['European', 'Turkish', 'Greek', 'Hungarian']                   1\n",
       "['French', 'Contemporary', 'Fusion', 'Gastropub']               1\n",
       "\n",
       "[9007 rows x 1 columns]"
      ]
     },
     "metadata": {},
     "output_type": "display_data"
    },
    {
     "data": {
      "text/plain": [
       "'Counts of uniqe values of column \"Ranking\"\\n'"
      ]
     },
     "metadata": {},
     "output_type": "display_data"
    },
    {
     "data": {
      "text/html": [
       "<div>\n",
       "<style scoped>\n",
       "    .dataframe tbody tr th:only-of-type {\n",
       "        vertical-align: middle;\n",
       "    }\n",
       "\n",
       "    .dataframe tbody tr th {\n",
       "        vertical-align: top;\n",
       "    }\n",
       "\n",
       "    .dataframe thead th {\n",
       "        text-align: right;\n",
       "    }\n",
       "</style>\n",
       "<table border=\"1\" class=\"dataframe\">\n",
       "  <thead>\n",
       "    <tr style=\"text-align: right;\">\n",
       "      <th></th>\n",
       "      <th>Ranking</th>\n",
       "    </tr>\n",
       "  </thead>\n",
       "  <tbody>\n",
       "    <tr>\n",
       "      <th>1080.0</th>\n",
       "      <td>19</td>\n",
       "    </tr>\n",
       "    <tr>\n",
       "      <th>491.0</th>\n",
       "      <td>18</td>\n",
       "    </tr>\n",
       "    <tr>\n",
       "      <th>345.0</th>\n",
       "      <td>18</td>\n",
       "    </tr>\n",
       "    <tr>\n",
       "      <th>437.0</th>\n",
       "      <td>18</td>\n",
       "    </tr>\n",
       "    <tr>\n",
       "      <th>431.0</th>\n",
       "      <td>18</td>\n",
       "    </tr>\n",
       "    <tr>\n",
       "      <th>...</th>\n",
       "      <td>...</td>\n",
       "    </tr>\n",
       "    <tr>\n",
       "      <th>15527.0</th>\n",
       "      <td>1</td>\n",
       "    </tr>\n",
       "    <tr>\n",
       "      <th>13207.0</th>\n",
       "      <td>1</td>\n",
       "    </tr>\n",
       "    <tr>\n",
       "      <th>6285.0</th>\n",
       "      <td>1</td>\n",
       "    </tr>\n",
       "    <tr>\n",
       "      <th>13112.0</th>\n",
       "      <td>1</td>\n",
       "    </tr>\n",
       "    <tr>\n",
       "      <th>6341.0</th>\n",
       "      <td>1</td>\n",
       "    </tr>\n",
       "  </tbody>\n",
       "</table>\n",
       "<p>11936 rows × 1 columns</p>\n",
       "</div>"
      ],
      "text/plain": [
       "         Ranking\n",
       "1080.0        19\n",
       "491.0         18\n",
       "345.0         18\n",
       "437.0         18\n",
       "431.0         18\n",
       "...          ...\n",
       "15527.0        1\n",
       "13207.0        1\n",
       "6285.0         1\n",
       "13112.0        1\n",
       "6341.0         1\n",
       "\n",
       "[11936 rows x 1 columns]"
      ]
     },
     "metadata": {},
     "output_type": "display_data"
    },
    {
     "data": {
      "text/plain": [
       "'Counts of uniqe values of column \"Rating\"\\n'"
      ]
     },
     "metadata": {},
     "output_type": "display_data"
    },
    {
     "data": {
      "text/html": [
       "<div>\n",
       "<style scoped>\n",
       "    .dataframe tbody tr th:only-of-type {\n",
       "        vertical-align: middle;\n",
       "    }\n",
       "\n",
       "    .dataframe tbody tr th {\n",
       "        vertical-align: top;\n",
       "    }\n",
       "\n",
       "    .dataframe thead th {\n",
       "        text-align: right;\n",
       "    }\n",
       "</style>\n",
       "<table border=\"1\" class=\"dataframe\">\n",
       "  <thead>\n",
       "    <tr style=\"text-align: right;\">\n",
       "      <th></th>\n",
       "      <th>Rating</th>\n",
       "    </tr>\n",
       "  </thead>\n",
       "  <tbody>\n",
       "    <tr>\n",
       "      <th>4.0</th>\n",
       "      <td>13692</td>\n",
       "    </tr>\n",
       "    <tr>\n",
       "      <th>4.5</th>\n",
       "      <td>10929</td>\n",
       "    </tr>\n",
       "    <tr>\n",
       "      <th>3.5</th>\n",
       "      <td>6824</td>\n",
       "    </tr>\n",
       "    <tr>\n",
       "      <th>5.0</th>\n",
       "      <td>3879</td>\n",
       "    </tr>\n",
       "    <tr>\n",
       "      <th>3.0</th>\n",
       "      <td>2955</td>\n",
       "    </tr>\n",
       "    <tr>\n",
       "      <th>2.5</th>\n",
       "      <td>915</td>\n",
       "    </tr>\n",
       "    <tr>\n",
       "      <th>2.0</th>\n",
       "      <td>466</td>\n",
       "    </tr>\n",
       "    <tr>\n",
       "      <th>1.0</th>\n",
       "      <td>201</td>\n",
       "    </tr>\n",
       "    <tr>\n",
       "      <th>1.5</th>\n",
       "      <td>139</td>\n",
       "    </tr>\n",
       "  </tbody>\n",
       "</table>\n",
       "</div>"
      ],
      "text/plain": [
       "     Rating\n",
       "4.0   13692\n",
       "4.5   10929\n",
       "3.5    6824\n",
       "5.0    3879\n",
       "3.0    2955\n",
       "2.5     915\n",
       "2.0     466\n",
       "1.0     201\n",
       "1.5     139"
      ]
     },
     "metadata": {},
     "output_type": "display_data"
    },
    {
     "data": {
      "text/plain": [
       "'Counts of uniqe values of column \"Price Range\"\\n'"
      ]
     },
     "metadata": {},
     "output_type": "display_data"
    },
    {
     "data": {
      "text/html": [
       "<div>\n",
       "<style scoped>\n",
       "    .dataframe tbody tr th:only-of-type {\n",
       "        vertical-align: middle;\n",
       "    }\n",
       "\n",
       "    .dataframe tbody tr th {\n",
       "        vertical-align: top;\n",
       "    }\n",
       "\n",
       "    .dataframe thead th {\n",
       "        text-align: right;\n",
       "    }\n",
       "</style>\n",
       "<table border=\"1\" class=\"dataframe\">\n",
       "  <thead>\n",
       "    <tr style=\"text-align: right;\">\n",
       "      <th></th>\n",
       "      <th>Price Range</th>\n",
       "    </tr>\n",
       "  </thead>\n",
       "  <tbody>\n",
       "    <tr>\n",
       "      <th>$$ - $$$</th>\n",
       "      <td>18412</td>\n",
       "    </tr>\n",
       "    <tr>\n",
       "      <th>$</th>\n",
       "      <td>6279</td>\n",
       "    </tr>\n",
       "    <tr>\n",
       "      <th>$$$$</th>\n",
       "      <td>1423</td>\n",
       "    </tr>\n",
       "  </tbody>\n",
       "</table>\n",
       "</div>"
      ],
      "text/plain": [
       "          Price Range\n",
       "$$ - $$$        18412\n",
       "$                6279\n",
       "$$$$             1423"
      ]
     },
     "metadata": {},
     "output_type": "display_data"
    },
    {
     "data": {
      "text/plain": [
       "'Counts of uniqe values of column \"Number of Reviews\"\\n'"
      ]
     },
     "metadata": {},
     "output_type": "display_data"
    },
    {
     "data": {
      "text/html": [
       "<div>\n",
       "<style scoped>\n",
       "    .dataframe tbody tr th:only-of-type {\n",
       "        vertical-align: middle;\n",
       "    }\n",
       "\n",
       "    .dataframe tbody tr th {\n",
       "        vertical-align: top;\n",
       "    }\n",
       "\n",
       "    .dataframe thead th {\n",
       "        text-align: right;\n",
       "    }\n",
       "</style>\n",
       "<table border=\"1\" class=\"dataframe\">\n",
       "  <thead>\n",
       "    <tr style=\"text-align: right;\">\n",
       "      <th></th>\n",
       "      <th>Number of Reviews</th>\n",
       "    </tr>\n",
       "  </thead>\n",
       "  <tbody>\n",
       "    <tr>\n",
       "      <th>2.0</th>\n",
       "      <td>1916</td>\n",
       "    </tr>\n",
       "    <tr>\n",
       "      <th>3.0</th>\n",
       "      <td>1636</td>\n",
       "    </tr>\n",
       "    <tr>\n",
       "      <th>4.0</th>\n",
       "      <td>1370</td>\n",
       "    </tr>\n",
       "    <tr>\n",
       "      <th>5.0</th>\n",
       "      <td>1181</td>\n",
       "    </tr>\n",
       "    <tr>\n",
       "      <th>6.0</th>\n",
       "      <td>1018</td>\n",
       "    </tr>\n",
       "    <tr>\n",
       "      <th>...</th>\n",
       "      <td>...</td>\n",
       "    </tr>\n",
       "    <tr>\n",
       "      <th>1705.0</th>\n",
       "      <td>1</td>\n",
       "    </tr>\n",
       "    <tr>\n",
       "      <th>1212.0</th>\n",
       "      <td>1</td>\n",
       "    </tr>\n",
       "    <tr>\n",
       "      <th>2014.0</th>\n",
       "      <td>1</td>\n",
       "    </tr>\n",
       "    <tr>\n",
       "      <th>3407.0</th>\n",
       "      <td>1</td>\n",
       "    </tr>\n",
       "    <tr>\n",
       "      <th>1162.0</th>\n",
       "      <td>1</td>\n",
       "    </tr>\n",
       "  </tbody>\n",
       "</table>\n",
       "<p>1459 rows × 1 columns</p>\n",
       "</div>"
      ],
      "text/plain": [
       "        Number of Reviews\n",
       "2.0                  1916\n",
       "3.0                  1636\n",
       "4.0                  1370\n",
       "5.0                  1181\n",
       "6.0                  1018\n",
       "...                   ...\n",
       "1705.0                  1\n",
       "1212.0                  1\n",
       "2014.0                  1\n",
       "3407.0                  1\n",
       "1162.0                  1\n",
       "\n",
       "[1459 rows x 1 columns]"
      ]
     },
     "metadata": {},
     "output_type": "display_data"
    },
    {
     "data": {
      "text/plain": [
       "'Counts of uniqe values of column \"Reviews\"\\n'"
      ]
     },
     "metadata": {},
     "output_type": "display_data"
    },
    {
     "data": {
      "text/html": [
       "<div>\n",
       "<style scoped>\n",
       "    .dataframe tbody tr th:only-of-type {\n",
       "        vertical-align: middle;\n",
       "    }\n",
       "\n",
       "    .dataframe tbody tr th {\n",
       "        vertical-align: top;\n",
       "    }\n",
       "\n",
       "    .dataframe thead th {\n",
       "        text-align: right;\n",
       "    }\n",
       "</style>\n",
       "<table border=\"1\" class=\"dataframe\">\n",
       "  <thead>\n",
       "    <tr style=\"text-align: right;\">\n",
       "      <th></th>\n",
       "      <th>Reviews</th>\n",
       "    </tr>\n",
       "  </thead>\n",
       "  <tbody>\n",
       "    <tr>\n",
       "      <th>[[], []]</th>\n",
       "      <td>6471</td>\n",
       "    </tr>\n",
       "    <tr>\n",
       "      <th>[['Whenever in Madrid, we never miss this gem...', 'Underrated sushi restaurant with very good...'], ['04/11/2017', '12/02/2016']]</th>\n",
       "      <td>2</td>\n",
       "    </tr>\n",
       "    <tr>\n",
       "      <th>[['Very good all around', 'Our first Madrid restaurant'], ['11/20/2017', '10/11/2017']]</th>\n",
       "      <td>2</td>\n",
       "    </tr>\n",
       "    <tr>\n",
       "      <th>[['Thursday snack', 'Good value for money &amp; good food!'], ['03/13/2017', '06/20/2016']]</th>\n",
       "      <td>2</td>\n",
       "    </tr>\n",
       "    <tr>\n",
       "      <th>[['Sat night', 'Can\\'t even explain.. \"A\" place.. A \"100...'], ['10/22/2017', '05/11/2017']]</th>\n",
       "      <td>2</td>\n",
       "    </tr>\n",
       "    <tr>\n",
       "      <th>...</th>\n",
       "      <td>...</td>\n",
       "    </tr>\n",
       "    <tr>\n",
       "      <th>[['Without taste and does not give back the c...', 'Delicious and Vegan friendly !'], ['12/23/2015', '03/03/2015']]</th>\n",
       "      <td>1</td>\n",
       "    </tr>\n",
       "    <tr>\n",
       "      <th>[['Little competition for that area...', 'Chain bar'], ['10/03/2017', '06/17/2017']]</th>\n",
       "      <td>1</td>\n",
       "    </tr>\n",
       "    <tr>\n",
       "      <th>[['Very nice vegan brunch', 'Simple, healthy food. Also good for veget...'], ['11/19/2017', '10/05/2017']]</th>\n",
       "      <td>1</td>\n",
       "    </tr>\n",
       "    <tr>\n",
       "      <th>[['interesting contrast'], ['08/21/2016']]</th>\n",
       "      <td>1</td>\n",
       "    </tr>\n",
       "    <tr>\n",
       "      <th>[['Average', 'Nice an informal'], ['01/31/2016', '07/04/2012']]</th>\n",
       "      <td>1</td>\n",
       "    </tr>\n",
       "  </tbody>\n",
       "</table>\n",
       "<p>33516 rows × 1 columns</p>\n",
       "</div>"
      ],
      "text/plain": [
       "                                                    Reviews\n",
       "[[], []]                                               6471\n",
       "[['Whenever in Madrid, we never miss this gem.....        2\n",
       "[['Very good all around', 'Our first Madrid res...        2\n",
       "[['Thursday snack', 'Good value for money & goo...        2\n",
       "[['Sat night', 'Can\\'t even explain.. \"A\" place...        2\n",
       "...                                                     ...\n",
       "[['Without taste and does not give back the c.....        1\n",
       "[['Little competition for that area...', 'Chain...        1\n",
       "[['Very nice vegan brunch', 'Simple, healthy fo...        1\n",
       "[['interesting contrast'], ['08/21/2016']]                1\n",
       "[['Average', 'Nice an informal'], ['01/31/2016'...        1\n",
       "\n",
       "[33516 rows x 1 columns]"
      ]
     },
     "metadata": {},
     "output_type": "display_data"
    },
    {
     "data": {
      "text/plain": [
       "'Counts of uniqe values of column \"URL_TA\"\\n'"
      ]
     },
     "metadata": {},
     "output_type": "display_data"
    },
    {
     "data": {
      "text/html": [
       "<div>\n",
       "<style scoped>\n",
       "    .dataframe tbody tr th:only-of-type {\n",
       "        vertical-align: middle;\n",
       "    }\n",
       "\n",
       "    .dataframe tbody tr th {\n",
       "        vertical-align: top;\n",
       "    }\n",
       "\n",
       "    .dataframe thead th {\n",
       "        text-align: right;\n",
       "    }\n",
       "</style>\n",
       "<table border=\"1\" class=\"dataframe\">\n",
       "  <thead>\n",
       "    <tr style=\"text-align: right;\">\n",
       "      <th></th>\n",
       "      <th>URL_TA</th>\n",
       "    </tr>\n",
       "  </thead>\n",
       "  <tbody>\n",
       "    <tr>\n",
       "      <th>/Restaurant_Review-g187514-d7342803-Reviews-Los_Hierros-Madrid.html</th>\n",
       "      <td>2</td>\n",
       "    </tr>\n",
       "    <tr>\n",
       "      <th>/Restaurant_Review-g187514-d11698990-Reviews-Verdello_Restaurante-Madrid.html</th>\n",
       "      <td>2</td>\n",
       "    </tr>\n",
       "    <tr>\n",
       "      <th>/Restaurant_Review-g187514-d1315077-Reviews-El_Pimiento_Verde-Madrid.html</th>\n",
       "      <td>2</td>\n",
       "    </tr>\n",
       "    <tr>\n",
       "      <th>/Restaurant_Review-g187514-d9802625-Reviews-La_Vie_en_Doux-Madrid.html</th>\n",
       "      <td>2</td>\n",
       "    </tr>\n",
       "    <tr>\n",
       "      <th>/Restaurant_Review-g187514-d697406-Reviews-Al_Mounia-Madrid.html</th>\n",
       "      <td>2</td>\n",
       "    </tr>\n",
       "    <tr>\n",
       "      <th>...</th>\n",
       "      <td>...</td>\n",
       "    </tr>\n",
       "    <tr>\n",
       "      <th>/Restaurant_Review-g187849-d9740009-Reviews-Richmond_Cafe-Milan_Lombardy.html</th>\n",
       "      <td>1</td>\n",
       "    </tr>\n",
       "    <tr>\n",
       "      <th>/Restaurant_Review-g187147-d7724709-Reviews-A_Jean_Nicot-Paris_Ile_de_France.html</th>\n",
       "      <td>1</td>\n",
       "    </tr>\n",
       "    <tr>\n",
       "      <th>/Restaurant_Review-g186338-d8498144-Reviews-The_Windmill_Pub-London_England.html</th>\n",
       "      <td>1</td>\n",
       "    </tr>\n",
       "    <tr>\n",
       "      <th>/Restaurant_Review-g187791-d945077-Reviews-Mario-Rome_Lazio.html</th>\n",
       "      <td>1</td>\n",
       "    </tr>\n",
       "    <tr>\n",
       "      <th>/Restaurant_Review-g187849-d1109020-Reviews-Taberna_Vasca-Milan_Lombardy.html</th>\n",
       "      <td>1</td>\n",
       "    </tr>\n",
       "  </tbody>\n",
       "</table>\n",
       "<p>39980 rows × 1 columns</p>\n",
       "</div>"
      ],
      "text/plain": [
       "                                                    URL_TA\n",
       "/Restaurant_Review-g187514-d7342803-Reviews-Los...       2\n",
       "/Restaurant_Review-g187514-d11698990-Reviews-Ve...       2\n",
       "/Restaurant_Review-g187514-d1315077-Reviews-El_...       2\n",
       "/Restaurant_Review-g187514-d9802625-Reviews-La_...       2\n",
       "/Restaurant_Review-g187514-d697406-Reviews-Al_M...       2\n",
       "...                                                    ...\n",
       "/Restaurant_Review-g187849-d9740009-Reviews-Ric...       1\n",
       "/Restaurant_Review-g187147-d7724709-Reviews-A_J...       1\n",
       "/Restaurant_Review-g186338-d8498144-Reviews-The...       1\n",
       "/Restaurant_Review-g187791-d945077-Reviews-Mari...       1\n",
       "/Restaurant_Review-g187849-d1109020-Reviews-Tab...       1\n",
       "\n",
       "[39980 rows x 1 columns]"
      ]
     },
     "metadata": {},
     "output_type": "display_data"
    },
    {
     "data": {
      "text/plain": [
       "'Counts of uniqe values of column \"ID_TA\"\\n'"
      ]
     },
     "metadata": {},
     "output_type": "display_data"
    },
    {
     "data": {
      "text/html": [
       "<div>\n",
       "<style scoped>\n",
       "    .dataframe tbody tr th:only-of-type {\n",
       "        vertical-align: middle;\n",
       "    }\n",
       "\n",
       "    .dataframe tbody tr th {\n",
       "        vertical-align: top;\n",
       "    }\n",
       "\n",
       "    .dataframe thead th {\n",
       "        text-align: right;\n",
       "    }\n",
       "</style>\n",
       "<table border=\"1\" class=\"dataframe\">\n",
       "  <thead>\n",
       "    <tr style=\"text-align: right;\">\n",
       "      <th></th>\n",
       "      <th>ID_TA</th>\n",
       "    </tr>\n",
       "  </thead>\n",
       "  <tbody>\n",
       "    <tr>\n",
       "      <th>d7342803</th>\n",
       "      <td>2</td>\n",
       "    </tr>\n",
       "    <tr>\n",
       "      <th>d11698990</th>\n",
       "      <td>2</td>\n",
       "    </tr>\n",
       "    <tr>\n",
       "      <th>d1315077</th>\n",
       "      <td>2</td>\n",
       "    </tr>\n",
       "    <tr>\n",
       "      <th>d9802625</th>\n",
       "      <td>2</td>\n",
       "    </tr>\n",
       "    <tr>\n",
       "      <th>d697406</th>\n",
       "      <td>2</td>\n",
       "    </tr>\n",
       "    <tr>\n",
       "      <th>...</th>\n",
       "      <td>...</td>\n",
       "    </tr>\n",
       "    <tr>\n",
       "      <th>d9740009</th>\n",
       "      <td>1</td>\n",
       "    </tr>\n",
       "    <tr>\n",
       "      <th>d7724709</th>\n",
       "      <td>1</td>\n",
       "    </tr>\n",
       "    <tr>\n",
       "      <th>d8498144</th>\n",
       "      <td>1</td>\n",
       "    </tr>\n",
       "    <tr>\n",
       "      <th>d945077</th>\n",
       "      <td>1</td>\n",
       "    </tr>\n",
       "    <tr>\n",
       "      <th>d1109020</th>\n",
       "      <td>1</td>\n",
       "    </tr>\n",
       "  </tbody>\n",
       "</table>\n",
       "<p>39980 rows × 1 columns</p>\n",
       "</div>"
      ],
      "text/plain": [
       "           ID_TA\n",
       "d7342803       2\n",
       "d11698990      2\n",
       "d1315077       2\n",
       "d9802625       2\n",
       "d697406        2\n",
       "...          ...\n",
       "d9740009       1\n",
       "d7724709       1\n",
       "d8498144       1\n",
       "d945077        1\n",
       "d1109020       1\n",
       "\n",
       "[39980 rows x 1 columns]"
      ]
     },
     "metadata": {},
     "output_type": "display_data"
    }
   ],
   "source": [
    "#  Display information (count of unique values) about every column in data set\n",
    "print('Display information (count of unique values) about every column in data set')\n",
    "for col in meals_ds.columns:\n",
    "    display(f'Counts of uniqe values of column \"{col}\"\\n', pd.DataFrame(meals_ds[col].value_counts()))"
   ]
  },
  {
   "cell_type": "markdown",
   "metadata": {},
   "source": [
    "# Result of first EDA:\n",
    "## Restaurant_id is just ID of restaurant. in fact there are 11909 unique values without empty values. It's unique for restaurant brand, but in the new data set there is new id, so this data can cause problems in the future\n",
    "## City is array of cities. Data has no empty values. It is necessary to turn the array into dummy data set. The array doesn't have trash data\n",
    "## Cuisine style is a list's of cuisines. At first a cuisine set must be created and then must be replaced with dummy data set. The column has empty values. Empty values must be replaced with smt. Data needs deeper analysis\n",
    "## Ranking. Float object. It is needed to find outliers. if there are no outliers, data frame is good\n",
    "## Rating. Float object. Key object. t is needed to find outliers. if there are no outliers, data frame is good\n",
    "## Price Range. Values must be replaced with int type. DS has empty values. Data needs deeper analysis.\n",
    "## Number of Reviews. numerical data array. It has empty values (less than empty reviews). Data needs deeper analysis\n",
    "## Reviews list of reviews with date. It is needed to use data from the list. It is needed to find outliers. It has empty values of data and reviews. Dates must be replaced on median.\n",
    "## Consider reviews and its' transformation into data. DS contains data with errors\n",
    "## URL_TA are the restaurant links at TripAdvisor. This information helps to restore info about cuisine, price range. Consider the possibility of finding reviews relevant to data set year. Other information from url is useless, because year of data set is not relevant\n",
    "## ID_TA can be removed because column URL_TA already has information about ID (in link)\n",
    "## Data has no duplicates"
   ]
  },
  {
   "cell_type": "code",
   "execution_count": 14,
   "metadata": {},
   "outputs": [
    {
     "name": "stdout",
     "output_type": "stream",
     "text": [
      "Preparing data form column City\n"
     ]
    }
   ],
   "source": [
    "# Prepare data's form column City\n",
    "print(\"Preparing data form column City\")\n",
    "cities_dummy = pd.get_dummies(meals_ds['City'])  # Create dummies for column City\n",
    "meals_ds[cities_dummy.columns] = cities_dummy  # Add new columns with city dummies\n",
    "city_set = list(cities_dummy.columns)  # Create set with cities for future analyze"
   ]
  },
  {
   "cell_type": "code",
   "execution_count": 15,
   "metadata": {},
   "outputs": [
    {
     "name": "stdout",
     "output_type": "stream",
     "text": [
      "Prepare and analyze ranking data\n"
     ]
    },
    {
     "data": {
      "text/plain": [
       "'A little statistic of Ranking\\n'"
      ]
     },
     "metadata": {},
     "output_type": "display_data"
    },
    {
     "data": {
      "text/plain": [
       "count    40000.000000\n",
       "mean      3676.028525\n",
       "std       3708.749567\n",
       "min          1.000000\n",
       "25%        973.000000\n",
       "50%       2285.000000\n",
       "75%       5260.000000\n",
       "max      16444.000000\n",
       "Name: Ranking, dtype: float64"
      ]
     },
     "metadata": {},
     "output_type": "display_data"
    },
    {
     "data": {
      "text/plain": [
       "<AxesSubplot:ylabel='Ranking'>"
      ]
     },
     "execution_count": 15,
     "metadata": {},
     "output_type": "execute_result"
    },
    {
     "data": {
      "image/png": "[encoded data removed]",
      "text/plain": [
       "<Figure size 432x288 with 1 Axes>"
      ]
     },
     "metadata": {
      "needs_background": "light"
     },
     "output_type": "display_data"
    }
   ],
   "source": [
    "# Prepare and analyze ranking data\n",
    "print('Prepare and analyze ranking data')\n",
    "display('A little statistic of Ranking\\n', meals_ds['Ranking'].describe())\n",
    "sns.boxplot(y=meals_ds['Ranking'])\n",
    "# display(meals_ds[meals_ds['Ranking'] == 16444][['URL_TA', 'Ranking']])\n",
    "# plt.show()"
   ]
  },
  {
   "cell_type": "markdown",
   "metadata": {},
   "source": [
    "# In statistic there are a few questions about outliers, but upon deeper analysis and review of the data on web-site we can draw a conclusion that data is correct and doesn't need clearing"
   ]
  },
  {
   "cell_type": "code",
   "execution_count": 16,
   "metadata": {},
   "outputs": [
    {
     "name": "stdout",
     "output_type": "stream",
     "text": [
      "Prepare and analyze data of Reviews\n"
     ]
    }
   ],
   "source": [
    "# Prepare and analyze data of Reviews\n",
    "print('Prepare and analyze data of Reviews')\n",
    "meals_ds['Reviews'] = meals_ds['Reviews'].apply(reviews_splitting)  # Turn string into list with reviews and dates\n",
    "meals_ds['review_dates'] = meals_ds['Reviews'].apply(lambda x: x[1])  # Create a new column with dates\n",
    "meals_ds['review_dates'] = meals_ds['review_dates'].fillna(0)  # Fill empty values by zero values\n",
    "meals_ds['Reviews'] = meals_ds['Reviews'].apply(lambda x: x[0])  # Fill column only with reviews"
   ]
  },
  {
   "cell_type": "code",
   "execution_count": 17,
   "metadata": {},
   "outputs": [
    {
     "name": "stdout",
     "output_type": "stream",
     "text": [
      "Restore data of Price Range from file\n"
     ]
    }
   ],
   "source": [
    "# Restore Data from internet for columns Cuisine Style and Price Range\n",
    "print('Restore data of Price Range from file')\n",
    "restore_data = pd.read_csv('./frames.csv', sep='\\t')  # Read the restored data from another file\n",
    "restore_price = restore_data[['index_df', 'Price Range']].copy()  # Make a copy of data set for future work\n",
    "# Fix the issue of None value in data set being a sting type. Turn them into NaN\n",
    "restore_price['Price Range'] = restore_price['Price Range'].replace('None', np.nan)\n",
    "restore_price = restore_price.dropna(how='any', axis=0)  # Drop all empty values from DS"
   ]
  },
  {
   "cell_type": "code",
   "execution_count": 18,
   "metadata": {},
   "outputs": [
    {
     "name": "stdout",
     "output_type": "stream",
     "text": [
      "Restore data of Cuisine Style from file\n"
     ]
    }
   ],
   "source": [
    "print('Restore data of Cuisine Style from file')\n",
    "restore_cuisine = restore_data[['index_df', 'Cuisine Style']].copy()  # Make a copy of data set for future work\n",
    "restore_cuisine['Cuisine Style'] = restore_cuisine['Cuisine Style'].replace('None', np.nan)  # Same issue as with Price\n",
    "restore_cuisine = restore_cuisine.dropna(how='any', axis=0)  # Drop all empty values from DS"
   ]
  },
  {
   "cell_type": "code",
   "execution_count": 19,
   "metadata": {},
   "outputs": [
    {
     "name": "stdout",
     "output_type": "stream",
     "text": [
      "Restore empty values of Price Range\n",
      "Restore empty values of Cuisine Style\n"
     ]
    }
   ],
   "source": [
    "print('Restore empty values of Price Range')\n",
    "# Restore data in main data set\n",
    "for i in restore_price['index_df']:\n",
    "    meals_ds.at[i, 'Price Range'] = str(restore_price[restore_price['index_df'] == i]['Price Range'].values) \\\n",
    "        .strip(\"[']\")\n",
    "\n",
    "print('Restore empty values of Cuisine Style')\n",
    "for i in restore_cuisine['index_df']:\n",
    "    meals_ds.at[i, 'Cuisine Style'] = str(restore_cuisine[restore_cuisine['index_df'] == i]['Cuisine Style'].values)"
   ]
  },
  {
   "cell_type": "code",
   "execution_count": 20,
   "metadata": {},
   "outputs": [
    {
     "name": "stdout",
     "output_type": "stream",
     "text": [
      "Change string into num for column Price Range\n",
      "Fill empty values of median by town\n"
     ]
    }
   ],
   "source": [
    "#  Prepare data series of Price Range\n",
    "print('Change string into num for column Price Range')\n",
    "meals_ds['Price Range'] = meals_ds['Price Range'].replace(to_replace=dict_price)  # replace all values by dictionary\n",
    "\n",
    "print('Fill empty values of median by town')\n",
    "for city in city_set:\n",
    "    median_ = meals_ds[meals_ds['City'] == city]['Price Range'].median()\n",
    "    indexes = meals_ds.loc[meals_ds['City'] == city].index\n",
    "    meals_ds.loc[indexes, 'Price Range'] = meals_ds.loc[indexes, 'Price Range'].fillna(median_)"
   ]
  },
  {
   "cell_type": "code",
   "execution_count": 21,
   "metadata": {},
   "outputs": [
    {
     "name": "stdout",
     "output_type": "stream",
     "text": [
      "Creating cuisine style set\n",
      "Create dummies for Cuisine Style\n"
     ]
    },
    {
     "name": "stderr",
     "output_type": "stream",
     "text": [
      "<ipython-input-21-d35470b55907>:8: PerformanceWarning: DataFrame is highly fragmented.  This is usually the result of calling `frame.insert` many times, which has poor performance.  Consider using pd.concat instead.  To get a de-fragmented frame, use `newframe = frame.copy()`\n",
      "  meals_ds[item] = meals_ds['Cuisine Style'].apply(find_item)\n"
     ]
    },
    {
     "name": "stdout",
     "output_type": "stream",
     "text": [
      "Fill empty values by most popular cuisine\n"
     ]
    }
   ],
   "source": [
    "# prepare and analyze Cuisine Style\n",
    "print('Creating cuisine style set')\n",
    "meals_ds['Cuisine Style'] = meals_ds['Cuisine Style'].apply(str_to_list)  # Turn all values in column into list\n",
    "cuisine_set = set(list(flatten(meals_ds['Cuisine Style'].dropna().values)))  # Create a set with cuisine styles\n",
    "\n",
    "print('Create dummies for Cuisine Style')\n",
    "for item in cuisine_set:\n",
    "    meals_ds[item] = meals_ds['Cuisine Style'].apply(find_item)\n",
    "\n",
    "print('Fill empty values by most popular cuisine')\n",
    "# Group cuisines by city and fill empty values by most popular cuisine in the city\n",
    "for city in city_set:\n",
    "    city_cuisine = pop_cuisine(city)\n",
    "    indexes = meals_ds.loc[meals_ds['City'] == city].index\n",
    "    # Dummy value for most popular cuisine is 1. For other cuisines value is 0\n",
    "    meals_ds.loc[indexes, city_cuisine] = meals_ds.loc[indexes, city_cuisine].fillna(1)\n",
    "    meals_ds.loc[indexes, cuisine_set] = meals_ds.loc[indexes, cuisine_set].fillna(0)\n",
    "\n",
    "# create dictionary for cuisines and write it into file\n",
    "cuisine_dict = {}\n",
    "f = open('cuisine_set.txt', 'w', encoding='utf-8')\n",
    "for cuisine in cuisine_set:\n",
    "    cuisine_dict[cuisine] = meals_ds[cuisine].sum()\n",
    "\n",
    "for key, val in cuisine_dict.items():\n",
    "    f.write('{}:{}\\n'.format(key, val))\n",
    "\n",
    "f.close()"
   ]
  },
  {
   "cell_type": "code",
   "execution_count": 22,
   "metadata": {},
   "outputs": [
    {
     "name": "stdout",
     "output_type": "stream",
     "text": [
      "Create additional columns of reviews\n",
      "Turn last date into unix time\n"
     ]
    }
   ],
   "source": [
    "# Create additional columns of reviews. There are 3 columns for counting negative, neutral and positive reviews.\n",
    "# Values are computed by function review_type\n",
    "print('Create additional columns of reviews')\n",
    "meals_ds[['negative_reviews', 'neutral_reviews', 'positive_reviews']] = \\\n",
    "    pd.DataFrame(list(meals_ds['Reviews'].apply(review_type)))\n",
    "\n",
    "print('Turn last date into unix time')\n",
    "# Create a column for last review and turn it's values into unix time type\n",
    "meals_ds['last_review'] = meals_ds['review_dates'].apply(last_review)"
   ]
  },
  {
   "cell_type": "code",
   "execution_count": 23,
   "metadata": {},
   "outputs": [
    {
     "name": "stdout",
     "output_type": "stream",
     "text": [
      "Fill empty values for column Number of Reviews\n",
      "Start the model\n"
     ]
    }
   ],
   "source": [
    "# Fill column Number of Reviews\n",
    "print('Fill empty values for column Number of Reviews')\n",
    "indexes = meals_ds[meals_ds['Number of Reviews'].isna()].index\n",
    "for index in indexes:\n",
    "    meals_ds.at[index, 'Number of Reviews'] = \\\n",
    "        meals_ds.loc[index, ['negative_reviews', 'neutral_reviews', 'positive_reviews']].sum()\n",
    "\n",
    "print('Start the model')"
   ]
  },
  {
   "cell_type": "markdown",
   "metadata": {},
   "source": [
    "# Разбиваем датафрейм на части, необходимые для обучения и тестирования модели"
   ]
  },
  {
   "cell_type": "code",
   "execution_count": 24,
   "metadata": {},
   "outputs": [],
   "source": [
    "# Remove all unnecessary columns\n",
    "X = meals_ds.drop(['Restaurant_id', 'Rating', 'ID_TA', 'URL_TA', 'Reviews', 'review_dates', 'City', 'Cuisine Style',\n",
    "                   'Street Parking', 'Television', 'Medicinal foods', 'Live Music', 'Lombard', 'Fruit parlours',\n",
    "                   'Cash Only', 'Burmese', 'Polynesian', 'Native American', 'Free Wifi', 'Outdoor Seating',\n",
    "                   'Late Night', 'Takeout', 'Table Service', 'Cajun & Creole', 'Reservations', 'Seating'],\n",
    "                  axis=1)\n",
    "y = meals_ds['Rating']"
   ]
  },
  {
   "cell_type": "code",
   "execution_count": 25,
   "metadata": {},
   "outputs": [],
   "source": [
    "# Наборы данных с меткой \"train\" будут использоваться для обучения модели, \"test\" - для тестирования.\n",
    "# Для тестирования мы будем использовать 25% от исходного датасета.\n",
    "X_train, X_test, y_train, y_test = train_test_split(X, y, test_size=0.25)"
   ]
  },
  {
   "cell_type": "markdown",
   "metadata": {},
   "source": [
    "# Создаём, обучаем и тестируем модель"
   ]
  },
  {
   "cell_type": "code",
   "execution_count": 26,
   "metadata": {},
   "outputs": [],
   "source": [
    "# Создаём модель\n",
    "regr = RandomForestRegressor(n_estimators=100)\n",
    "\n",
    "# Обучаем модель на тестовом наборе данных\n",
    "regr.fit(X_train, y_train)\n",
    "\n",
    "# Используем обученную модель для предсказания рейтинга ресторанов в тестовой выборке.\n",
    "# Предсказанные значения записываем в переменную y_pred\n",
    "y_pred = regr.predict(X_test)"
   ]
  },
  {
   "cell_type": "code",
   "execution_count": 27,
   "metadata": {},
   "outputs": [
    {
     "name": "stdout",
     "output_type": "stream",
     "text": [
      "MAE: 0.2088535\n"
     ]
    }
   ],
   "source": [
    "# Сравниваем предсказанные значения (y_pred) с реальными (y_test), и смотрим насколько они в среднем отличаются\n",
    "# Метрика называется Mean Absolute Error (MAE) и показывает среднее отклонение предсказанных значений от фактических.\n",
    "print('MAE:', metrics.mean_absolute_error(y_test, y_pred))"
   ]
  }
 ],
 "metadata": {
  "kernelspec": {
   "display_name": "Python 3",
   "language": "python",
   "name": "python3"
  },
  "language_info": {
   "codemirror_mode": {
    "name": "ipython",
    "version": 3
   },
   "file_extension": ".py",
   "mimetype": "text/x-python",
   "name": "python",
   "nbconvert_exporter": "python",
   "pygments_lexer": "ipython3",
   "version": "3.8.5"
  }
 },
 "nbformat": 4,
 "nbformat_minor": 2
}
