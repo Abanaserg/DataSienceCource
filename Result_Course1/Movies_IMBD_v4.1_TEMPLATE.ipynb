{
 "cells": [
  {
   "cell_type": "code",
   "execution_count": 22,
   "metadata": {
    "_cell_guid": "b1076dfc-b9ad-4769-8c92-a6c4dae69d19",
    "_uuid": "8f2839f25d086af736a60e9eeb907d3b93b6e0e5",
    "colab": {},
    "colab_type": "code",
    "id": "U2D2gTdJVp90"
   },
   "outputs": [],
   "source": [
    "import numpy as np\n",
    "import pandas as pd\n",
    "import seaborn as sns\n",
    "import matplotlib.pyplot as plt\n",
    "from collections import Counter"
   ]
  },
  {
   "cell_type": "code",
   "execution_count": 23,
   "metadata": {
    "_cell_guid": "79c7e3d0-c299-4dcb-8224-4455121ee9b0",
    "_uuid": "d629ff2d2480ee46fbb7e2d37f6b5fab8052498a",
    "colab": {},
    "colab_type": "code",
    "id": "oyGfxL3eVp9-"
   },
   "outputs": [
    {
     "data": {
      "text/html": [
       "<div>\n",
       "<style scoped>\n",
       "    .dataframe tbody tr th:only-of-type {\n",
       "        vertical-align: middle;\n",
       "    }\n",
       "\n",
       "    .dataframe tbody tr th {\n",
       "        vertical-align: top;\n",
       "    }\n",
       "\n",
       "    .dataframe thead th {\n",
       "        text-align: right;\n",
       "    }\n",
       "</style>\n",
       "<table border=\"1\" class=\"dataframe\">\n",
       "  <thead>\n",
       "    <tr style=\"text-align: right;\">\n",
       "      <th></th>\n",
       "      <th>imdb_id</th>\n",
       "      <th>budget</th>\n",
       "      <th>revenue</th>\n",
       "      <th>original_title</th>\n",
       "      <th>cast</th>\n",
       "      <th>director</th>\n",
       "      <th>tagline</th>\n",
       "      <th>overview</th>\n",
       "      <th>runtime</th>\n",
       "      <th>genres</th>\n",
       "      <th>production_companies</th>\n",
       "      <th>release_date</th>\n",
       "      <th>vote_average</th>\n",
       "      <th>release_year</th>\n",
       "    </tr>\n",
       "  </thead>\n",
       "  <tbody>\n",
       "    <tr>\n",
       "      <th>1403</th>\n",
       "      <td>tt0372532</td>\n",
       "      <td>15000000</td>\n",
       "      <td>47175038</td>\n",
       "      <td>The Wedding Date</td>\n",
       "      <td>Debra Messing|Dermot Mulroney|Amy Adams|Jack D...</td>\n",
       "      <td>Clare Kilner</td>\n",
       "      <td>Love doesn't come cheap.</td>\n",
       "      <td>With the wedding of her younger sister fast ap...</td>\n",
       "      <td>88</td>\n",
       "      <td>Comedy|Romance</td>\n",
       "      <td>Universal Pictures|26 Films</td>\n",
       "      <td>2/4/2005</td>\n",
       "      <td>6.2</td>\n",
       "      <td>2005</td>\n",
       "    </tr>\n",
       "    <tr>\n",
       "      <th>1584</th>\n",
       "      <td>tt0362227</td>\n",
       "      <td>60000000</td>\n",
       "      <td>219417255</td>\n",
       "      <td>The Terminal</td>\n",
       "      <td>Tom Hanks|Catherine Zeta-Jones|Stanley Tucci|C...</td>\n",
       "      <td>Steven Spielberg</td>\n",
       "      <td>Life is waiting.</td>\n",
       "      <td>Viktor Navorski is a man without a country; hi...</td>\n",
       "      <td>128</td>\n",
       "      <td>Comedy|Drama</td>\n",
       "      <td>DreamWorks SKG|Amblin Entertainment|Parkes/Mac...</td>\n",
       "      <td>6/17/2004</td>\n",
       "      <td>7.0</td>\n",
       "      <td>2004</td>\n",
       "    </tr>\n",
       "    <tr>\n",
       "      <th>679</th>\n",
       "      <td>tt0462465</td>\n",
       "      <td>50000000</td>\n",
       "      <td>7033683</td>\n",
       "      <td>Outlander</td>\n",
       "      <td>Jim Caviezel|Sophia Myles|Jack Huston|Ron Perl...</td>\n",
       "      <td>Howard McCain</td>\n",
       "      <td>It destroyed his world. He won't let it destro...</td>\n",
       "      <td>During the reign of the Vikings, a man from an...</td>\n",
       "      <td>115</td>\n",
       "      <td>Fantasy|Action|Science Fiction</td>\n",
       "      <td>Ascendant Pictures|Rising Star|VIP Medienfonds...</td>\n",
       "      <td>4/24/2008</td>\n",
       "      <td>6.0</td>\n",
       "      <td>2008</td>\n",
       "    </tr>\n",
       "    <tr>\n",
       "      <th>1352</th>\n",
       "      <td>tt0418763</td>\n",
       "      <td>72000000</td>\n",
       "      <td>96889998</td>\n",
       "      <td>Jarhead</td>\n",
       "      <td>Jamie Foxx|Jake Gyllenhaal|Scott MacDonald|Luc...</td>\n",
       "      <td>Sam Mendes</td>\n",
       "      <td>Welcome to the suck.</td>\n",
       "      <td>Jarhead is a film about a US Marine Anthony Sw...</td>\n",
       "      <td>125</td>\n",
       "      <td>Drama|War</td>\n",
       "      <td>Universal Pictures|Neal Street Productions|Red...</td>\n",
       "      <td>11/4/2005</td>\n",
       "      <td>6.4</td>\n",
       "      <td>2005</td>\n",
       "    </tr>\n",
       "    <tr>\n",
       "      <th>1673</th>\n",
       "      <td>tt0477348</td>\n",
       "      <td>25000000</td>\n",
       "      <td>171600000</td>\n",
       "      <td>No Country for Old Men</td>\n",
       "      <td>Tommy Lee Jones|Javier Bardem|Josh Brolin|Wood...</td>\n",
       "      <td>Joel Coen|Ethan Coen</td>\n",
       "      <td>There are no clean getaways.</td>\n",
       "      <td>Llewelyn Moss stumbles upon dead bodies, $2 mi...</td>\n",
       "      <td>122</td>\n",
       "      <td>Crime|Drama|Thriller</td>\n",
       "      <td>Miramax Films|Scott Rudin Productions|Paramoun...</td>\n",
       "      <td>11/8/2007</td>\n",
       "      <td>7.6</td>\n",
       "      <td>2007</td>\n",
       "    </tr>\n",
       "  </tbody>\n",
       "</table>\n",
       "</div>"
      ],
      "text/plain": [
       "        imdb_id    budget    revenue          original_title  \\\n",
       "1403  tt0372532  15000000   47175038        The Wedding Date   \n",
       "1584  tt0362227  60000000  219417255            The Terminal   \n",
       "679   tt0462465  50000000    7033683               Outlander   \n",
       "1352  tt0418763  72000000   96889998                 Jarhead   \n",
       "1673  tt0477348  25000000  171600000  No Country for Old Men   \n",
       "\n",
       "                                                   cast              director  \\\n",
       "1403  Debra Messing|Dermot Mulroney|Amy Adams|Jack D...          Clare Kilner   \n",
       "1584  Tom Hanks|Catherine Zeta-Jones|Stanley Tucci|C...      Steven Spielberg   \n",
       "679   Jim Caviezel|Sophia Myles|Jack Huston|Ron Perl...         Howard McCain   \n",
       "1352  Jamie Foxx|Jake Gyllenhaal|Scott MacDonald|Luc...            Sam Mendes   \n",
       "1673  Tommy Lee Jones|Javier Bardem|Josh Brolin|Wood...  Joel Coen|Ethan Coen   \n",
       "\n",
       "                                                tagline  \\\n",
       "1403                           Love doesn't come cheap.   \n",
       "1584                                   Life is waiting.   \n",
       "679   It destroyed his world. He won't let it destro...   \n",
       "1352                               Welcome to the suck.   \n",
       "1673                       There are no clean getaways.   \n",
       "\n",
       "                                               overview  runtime  \\\n",
       "1403  With the wedding of her younger sister fast ap...       88   \n",
       "1584  Viktor Navorski is a man without a country; hi...      128   \n",
       "679   During the reign of the Vikings, a man from an...      115   \n",
       "1352  Jarhead is a film about a US Marine Anthony Sw...      125   \n",
       "1673  Llewelyn Moss stumbles upon dead bodies, $2 mi...      122   \n",
       "\n",
       "                              genres  \\\n",
       "1403                  Comedy|Romance   \n",
       "1584                    Comedy|Drama   \n",
       "679   Fantasy|Action|Science Fiction   \n",
       "1352                       Drama|War   \n",
       "1673            Crime|Drama|Thriller   \n",
       "\n",
       "                                   production_companies release_date  \\\n",
       "1403                        Universal Pictures|26 Films     2/4/2005   \n",
       "1584  DreamWorks SKG|Amblin Entertainment|Parkes/Mac...    6/17/2004   \n",
       "679   Ascendant Pictures|Rising Star|VIP Medienfonds...    4/24/2008   \n",
       "1352  Universal Pictures|Neal Street Productions|Red...    11/4/2005   \n",
       "1673  Miramax Films|Scott Rudin Productions|Paramoun...    11/8/2007   \n",
       "\n",
       "      vote_average  release_year  \n",
       "1403           6.2          2005  \n",
       "1584           7.0          2004  \n",
       "679            6.0          2008  \n",
       "1352           6.4          2005  \n",
       "1673           7.6          2007  "
      ]
     },
     "execution_count": 23,
     "metadata": {},
     "output_type": "execute_result"
    }
   ],
   "source": [
    "data = pd.read_csv('movie_bd_v5.csv')\n",
    "data.sample(5)"
   ]
  },
  {
   "cell_type": "code",
   "execution_count": 24,
   "metadata": {
    "colab": {},
    "colab_type": "code",
    "id": "CoYUnagMVp-C"
   },
   "outputs": [
    {
     "data": {
      "text/html": [
       "<div>\n",
       "<style scoped>\n",
       "    .dataframe tbody tr th:only-of-type {\n",
       "        vertical-align: middle;\n",
       "    }\n",
       "\n",
       "    .dataframe tbody tr th {\n",
       "        vertical-align: top;\n",
       "    }\n",
       "\n",
       "    .dataframe thead th {\n",
       "        text-align: right;\n",
       "    }\n",
       "</style>\n",
       "<table border=\"1\" class=\"dataframe\">\n",
       "  <thead>\n",
       "    <tr style=\"text-align: right;\">\n",
       "      <th></th>\n",
       "      <th>budget</th>\n",
       "      <th>revenue</th>\n",
       "      <th>runtime</th>\n",
       "      <th>vote_average</th>\n",
       "      <th>release_year</th>\n",
       "    </tr>\n",
       "  </thead>\n",
       "  <tbody>\n",
       "    <tr>\n",
       "      <th>count</th>\n",
       "      <td>1.889000e+03</td>\n",
       "      <td>1.889000e+03</td>\n",
       "      <td>1889.000000</td>\n",
       "      <td>1889.000000</td>\n",
       "      <td>1889.000000</td>\n",
       "    </tr>\n",
       "    <tr>\n",
       "      <th>mean</th>\n",
       "      <td>5.431083e+07</td>\n",
       "      <td>1.553653e+08</td>\n",
       "      <td>109.658549</td>\n",
       "      <td>6.140762</td>\n",
       "      <td>2007.860773</td>\n",
       "    </tr>\n",
       "    <tr>\n",
       "      <th>std</th>\n",
       "      <td>4.858721e+07</td>\n",
       "      <td>2.146698e+08</td>\n",
       "      <td>18.017041</td>\n",
       "      <td>0.764763</td>\n",
       "      <td>4.468841</td>\n",
       "    </tr>\n",
       "    <tr>\n",
       "      <th>min</th>\n",
       "      <td>5.000000e+06</td>\n",
       "      <td>2.033165e+06</td>\n",
       "      <td>63.000000</td>\n",
       "      <td>3.300000</td>\n",
       "      <td>2000.000000</td>\n",
       "    </tr>\n",
       "    <tr>\n",
       "      <th>25%</th>\n",
       "      <td>2.000000e+07</td>\n",
       "      <td>3.456058e+07</td>\n",
       "      <td>97.000000</td>\n",
       "      <td>5.600000</td>\n",
       "      <td>2004.000000</td>\n",
       "    </tr>\n",
       "    <tr>\n",
       "      <th>50%</th>\n",
       "      <td>3.800000e+07</td>\n",
       "      <td>8.361541e+07</td>\n",
       "      <td>107.000000</td>\n",
       "      <td>6.100000</td>\n",
       "      <td>2008.000000</td>\n",
       "    </tr>\n",
       "    <tr>\n",
       "      <th>75%</th>\n",
       "      <td>7.200000e+07</td>\n",
       "      <td>1.782626e+08</td>\n",
       "      <td>120.000000</td>\n",
       "      <td>6.600000</td>\n",
       "      <td>2012.000000</td>\n",
       "    </tr>\n",
       "    <tr>\n",
       "      <th>max</th>\n",
       "      <td>3.800000e+08</td>\n",
       "      <td>2.781506e+09</td>\n",
       "      <td>214.000000</td>\n",
       "      <td>8.100000</td>\n",
       "      <td>2015.000000</td>\n",
       "    </tr>\n",
       "  </tbody>\n",
       "</table>\n",
       "</div>"
      ],
      "text/plain": [
       "             budget       revenue      runtime  vote_average  release_year\n",
       "count  1.889000e+03  1.889000e+03  1889.000000   1889.000000   1889.000000\n",
       "mean   5.431083e+07  1.553653e+08   109.658549      6.140762   2007.860773\n",
       "std    4.858721e+07  2.146698e+08    18.017041      0.764763      4.468841\n",
       "min    5.000000e+06  2.033165e+06    63.000000      3.300000   2000.000000\n",
       "25%    2.000000e+07  3.456058e+07    97.000000      5.600000   2004.000000\n",
       "50%    3.800000e+07  8.361541e+07   107.000000      6.100000   2008.000000\n",
       "75%    7.200000e+07  1.782626e+08   120.000000      6.600000   2012.000000\n",
       "max    3.800000e+08  2.781506e+09   214.000000      8.100000   2015.000000"
      ]
     },
     "execution_count": 24,
     "metadata": {},
     "output_type": "execute_result"
    }
   ],
   "source": [
    "data.describe()"
   ]
  },
  {
   "cell_type": "markdown",
   "metadata": {},
   "source": [
    "# Пользовательсике функции"
   ]
  },
  {
   "cell_type": "code",
   "execution_count": 25,
   "metadata": {},
   "outputs": [],
   "source": [
    "# счетчик уникальных значений в массиве при учете того, что разделитель \"|\"\n",
    "def un_name_count (df):\n",
    "    names={} # создание словаря из имен (ключ) и подсчета количества уникальных значений\n",
    "    for i in df.index:\n",
    "        names_str=list(df[i].split('|'))\n",
    "        for j in names_str:\n",
    "            if j in names.keys():\n",
    "                names[j]+=1 # если имя уже есть в словаре, то увеличиваем счетчик\n",
    "            else:\n",
    "                names[j]=1 # если имени нет в словаре, начинаем счетчик и создаем ключ\n",
    "    return names # возвращаем словарь по результаам функции\n",
    "\n",
    "# подсчет прибыльных и убыточных жанров\n",
    "# names - перечень уникальных значений, names_list - список состоящий из наборов names, profit -\n",
    "# массив разницы между сборами и бюджетом\n",
    "def profit_count(names,names_list,profit):\n",
    "    names_dict=dict.fromkeys(names)\n",
    "\n",
    "    for i in names_dict.keys():\n",
    "        names_dict[i] = [0 ,0]\n",
    "\n",
    "    for i in names_list.index:\n",
    "        for j in names:\n",
    "            if j in names_list[i]:\n",
    "                # если прибыль больше 0 увеличивает счетчик \"прибыльности\". если меньше 0, счетчик убыточности\n",
    "                if profit.iloc[i]>0:\n",
    "                    names_dict[j][0]+=1\n",
    "                else:\n",
    "                    names_dict[j][1] += 1\n",
    "\n",
    "    return names_dict\n",
    "\n",
    "# функия для суммирования значений\n",
    "# names - перечень уникальных значений, names_list - список состоящий из наборов names,\n",
    "# values - массив значений по которым выполняется суммирование\n",
    "def summ_values(names,names_list,values):\n",
    "    names_dict = dict.fromkeys(names)\n",
    "\n",
    "    for i in names_dict.keys():\n",
    "        names_dict[i] = 0\n",
    "\n",
    "    for i in names_list.index:\n",
    "        for j in names:\n",
    "            if j in names_list[i]:\n",
    "                # проверка на тип. если строка, считать количество. В остальных случаях выполнять суммирование.\n",
    "                # Подразумевается, что входными данными могут быть int, float или str\n",
    "                if type(values[i]) is not str:\n",
    "                    names_dict[j]+=values[i]\n",
    "                else:\n",
    "                    names_dict[j]+=1\n",
    "\n",
    "    return names_dict\n",
    "\n",
    "\n",
    "#функция для подсчета вхождения значений списка names в серии names_list и значения s_name в серии s_name_list\n",
    "# подразумевается, что размерности s_name_list и names_list одинаковые и формирующиеся из одногои тогоже DF\n",
    "def count_smt(names,s_name,names_list,s_name_list):\n",
    "    names_dict = dict.fromkeys(names)\n",
    "\n",
    "    for i in names_dict.keys():\n",
    "        names_dict[i] = 0\n",
    "\n",
    "    for i in names_list.index:\n",
    "        for j in names:\n",
    "            if (j in names_list[i]) and (s_name in s_name_list[i]):\n",
    "                names_dict[j]+=1\n",
    "    return names_dict\n",
    "\n",
    "# функция приведения дат к единому формату dd.mm.yyyy\n",
    "def date_standart(df):\n",
    "    for i in df.index:\n",
    "        if '/' in df[i]:\n",
    "            date=list(df[i].split('/'))\n",
    "            if len(date[0])==1: #перевод месяца к формату mm\n",
    "                date[0]='0'+date[0]\n",
    "            df[i]=date[1]+'.'+date[0]+'.'+date[2]\n",
    "    return df\n",
    "\n",
    "#функция для подсчета длины строки и количества слов\n",
    "def mid_len(names,names_list,str_list,meth='str'):\n",
    "    names_dict = dict.fromkeys(names)\n",
    "    for i in names_dict.keys():\n",
    "        names_dict[i] = 0\n",
    "\n",
    "    if meth=='str': # в случае если нужно посчитать количество элементов в строке\n",
    "        for i in names_list.index:\n",
    "            for j in names:\n",
    "                # print(names_list[i])\n",
    "                # print(names_list.iloc[i])\n",
    "                if (j in list(names_list[i].split('|'))):\n",
    "                    names_dict[j]+=len(str_list[i].replace(' ',''))\n",
    "\n",
    "    elif meth=='word': # в случае если нужно посчитать количество слов в строке\n",
    "        for i in names_list.index:\n",
    "            for j in names:\n",
    "                if (j in list(names_list[i].split('|'))):\n",
    "                    names_dict[j]+=len(list(str_list[i].split()))\n",
    "\n",
    "\n",
    "    return names_dict\n",
    "\n",
    "# функция для подсчета частоты вхождения элементов names в names_list\n",
    "def friends(names,names_list):\n",
    "    l_names = len(names) # что бы несколько раз не высичлять, маленькая \"оптимизация\" )\n",
    "\n",
    "    # создания DF размеров l_names х l_names изначально заполненой нулями\n",
    "    names_df = pd.DataFrame([[0]*l_names]*l_names\n",
    "                            ,columns=names\n",
    "                            ,index=names)\n",
    "\n",
    "    for i in names_list:\n",
    "        tmp_list=list(i.split('|')) #выделение отдельных элементов из строки\n",
    "\n",
    "        # увеличение каждого элемента массива на 1 как индикатора, что элементы tmp_list\n",
    "        # входят в общий DF на конкретные позиции. при этом исключается элемент, замкнутый на себя\n",
    "        for j in tmp_list:\n",
    "            for k in tmp_list:\n",
    "                if j != k:\n",
    "                    names_df.loc[j][k]+=1\n",
    "    return names_df"
   ]
  },
  {
   "cell_type": "markdown",
   "metadata": {
    "colab_type": "text",
    "id": "DTIt7ezGVp-G"
   },
   "source": [
    "# Предобработка"
   ]
  },
  {
   "cell_type": "code",
   "execution_count": 26,
   "metadata": {
    "colab": {},
    "colab_type": "code",
    "id": "jNb40DwKVp-H"
   },
   "outputs": [
    {
     "name": "stderr",
     "output_type": "stream",
     "text": [
      "<ipython-input-25-a0ba34b9e877>:76: SettingWithCopyWarning: \n",
      "A value is trying to be set on a copy of a slice from a DataFrame\n",
      "\n",
      "See the caveats in the documentation: https://pandas.pydata.org/pandas-docs/stable/user_guide/indexing.html#returning-a-view-versus-a-copy\n",
      "  df[i]=date[1]+'.'+date[0]+'.'+date[2]\n"
     ]
    }
   ],
   "source": [
    "answers=dict.fromkeys('Ответ на вопрос '+str(i) for i in range(1,28)) # создадим словарь для ответов\n",
    "i=1\n",
    "\n",
    "# тут другие ваши предобработки колонок например:\n",
    "data['release_date']=date_standart(data['release_date']) # перевод всех дат в тип dd.mm.yyyy\n",
    "data['month']=data['release_date'].str.split('.').str[-2] # создание колонки месяца выпуска\n",
    "data['title_len']=data['original_title'].str.replace(' ','').str.len() # создание колонки с длиной названия фильма\n",
    "data['profit']=data.revenue-data.budget # создание колонки \"прибыль\"\n",
    "\n",
    "# создание отдельного DF для жанров\n",
    "genres_df=pd.DataFrame.from_dict(un_name_count(data.genres), orient='index')\n",
    "genres_df.columns=['counts']\n",
    "genres_df[['profit','not_profit']]=pd.DataFrame.from_dict(profit_count(genres_df.index,data.genres,data.profit)\n",
    "                                                          ,orient='index')\n",
    "#Создание DF для режисеров\n",
    "director_df=pd.DataFrame.from_dict(un_name_count(data.director), orient='index')\n",
    "director_df.columns=['counts']\n",
    "director_df['summ_revenue']=pd.DataFrame.from_dict(summ_values(director_df.index,data.director,data.revenue)\n",
    "                                                   , orient='index')\n",
    "\n",
    "# создание DF для актеров\n",
    "actors_df=pd.DataFrame.from_dict(un_name_count(data.cast), orient='index')\n",
    "actors_df.columns=['counts']\n",
    "actors_df['summ_revenue_2012']=pd.DataFrame.from_dict(summ_values(actors_df.index,data[data.release_year==2012].cast\n",
    "                                      ,data[data.release_year==2012].revenue), orient='index')\n",
    "\n",
    "# создание Series для студии Paramount Pictures\n",
    "pmp_df=data[data.production_companies.str.contains('Paramount Pictures')]\n",
    "\n",
    "# создание DF для студии\n",
    "prod_comp_df=pd.DataFrame.from_dict(un_name_count(data.production_companies), orient='index')\n",
    "prod_comp_df.columns=['counts']"
   ]
  },
  {
   "cell_type": "markdown",
   "metadata": {
    "colab_type": "text",
    "id": "YxZaH-nPVp-L"
   },
   "source": [
    "# 1. У какого фильма из списка самый большой бюджет?"
   ]
  },
  {
   "cell_type": "markdown",
   "metadata": {
    "colab_type": "text",
    "id": "Nd-G5gX6Vp-M"
   },
   "source": [
    "Использовать варианты ответов в коде решения запрещено.    \n",
    "Вы думаете и в жизни у вас будут варианты ответов?)"
   ]
  },
  {
   "cell_type": "code",
   "execution_count": 27,
   "metadata": {
    "colab": {},
    "colab_type": "code",
    "id": "uVnXAY5RVp-O"
   },
   "outputs": [
    {
     "name": "stdout",
     "output_type": "stream",
     "text": [
      "ответ на Вопрос № 1 найден:  723    Pirates of the Caribbean: On Stranger Tides\n",
      "Name: original_title, dtype: object\n"
     ]
    }
   ],
   "source": [
    "answers['Ответ на вопрос '+str(i)]=data[data.budget==data.budget.max()].original_title\n",
    "print(f'ответ на Вопрос № {i} найден: ',answers['Ответ на вопрос '+str(i)])\n",
    "i+=1"
   ]
  },
  {
   "cell_type": "markdown",
   "metadata": {
    "colab_type": "text",
    "id": "FNRbbI3vVp-c"
   },
   "source": [
    "# 2. Какой из фильмов самый длительный (в минутах)?"
   ]
  },
  {
   "cell_type": "code",
   "execution_count": 28,
   "metadata": {
    "colab": {},
    "colab_type": "code",
    "id": "vHAoEXNTVp-d"
   },
   "outputs": [
    {
     "name": "stdout",
     "output_type": "stream",
     "text": [
      "ответ на Вопрос № 2 найден:  1157    Gods and Generals\n",
      "Name: original_title, dtype: object\n"
     ]
    }
   ],
   "source": [
    "answers['Ответ на вопрос '+str(i)]=data[data.runtime==data.runtime.max()].original_title\n",
    "print(f'ответ на Вопрос № {i} найден: ',answers['Ответ на вопрос '+str(i)])\n",
    "i+=1"
   ]
  },
  {
   "cell_type": "markdown",
   "metadata": {
    "colab_type": "text",
    "id": "bapLlpW8Vp-k"
   },
   "source": [
    "# 3. Какой из фильмов самый короткий (в минутах)?\n",
    "\n",
    "\n",
    "\n"
   ]
  },
  {
   "cell_type": "code",
   "execution_count": 29,
   "metadata": {
    "colab": {},
    "colab_type": "code",
    "id": "YBxaSHuAVp-l"
   },
   "outputs": [
    {
     "name": "stdout",
     "output_type": "stream",
     "text": [
      "ответ на Вопрос № 3 найден:  768    Winnie the Pooh\n",
      "Name: original_title, dtype: object\n"
     ]
    }
   ],
   "source": [
    "answers['Ответ на вопрос '+str(i)]=data[data.runtime==data.runtime.min()].original_title\n",
    "print(f'ответ на Вопрос № {i} найден: ',answers['Ответ на вопрос '+str(i)])\n",
    "i+=1"
   ]
  },
  {
   "cell_type": "markdown",
   "metadata": {
    "colab_type": "text",
    "id": "TfQbxbfNVp-p"
   },
   "source": [
    "# 4. Какова средняя длительность фильмов?\n"
   ]
  },
  {
   "cell_type": "code",
   "execution_count": 30,
   "metadata": {
    "colab": {},
    "colab_type": "code",
    "id": "5K6dKZYVVp-q"
   },
   "outputs": [
    {
     "name": "stdout",
     "output_type": "stream",
     "text": [
      "ответ на Вопрос № 4 найден:  110\n"
     ]
    }
   ],
   "source": [
    "answers['Ответ на вопрос '+str(i)]=round(data.runtime.mean())\n",
    "print(f'ответ на Вопрос № {i} найден: ',answers['Ответ на вопрос '+str(i)])\n",
    "i+=1"
   ]
  },
  {
   "cell_type": "markdown",
   "metadata": {
    "colab_type": "text",
    "id": "r5TvbnT_Vp-u"
   },
   "source": [
    "# 5. Каково медианное значение длительности фильмов? "
   ]
  },
  {
   "cell_type": "code",
   "execution_count": 31,
   "metadata": {
    "colab": {},
    "colab_type": "code",
    "id": "iBROplKnVp-v"
   },
   "outputs": [
    {
     "name": "stdout",
     "output_type": "stream",
     "text": [
      "ответ на Вопрос № 5 найден:  107\n"
     ]
    }
   ],
   "source": [
    "answers['Ответ на вопрос '+str(i)]=round(data.runtime.median())\n",
    "print(f'ответ на Вопрос № {i} найден: ',answers['Ответ на вопрос '+str(i)])\n",
    "i+=1"
   ]
  },
  {
   "cell_type": "markdown",
   "metadata": {
    "colab_type": "text",
    "id": "39P-deDSVp-y"
   },
   "source": [
    "# 6. Какой самый прибыльный фильм?\n",
    "#### Внимание! Здесь и далее под «прибылью» или «убытками» понимается разность между сборами и бюджетом фильма. (прибыль = сборы - бюджет) в нашем датасете это будет (profit = revenue - budget) "
   ]
  },
  {
   "cell_type": "code",
   "execution_count": 32,
   "metadata": {
    "colab": {},
    "colab_type": "code",
    "id": "UYZh4T9WVp-y"
   },
   "outputs": [
    {
     "name": "stdout",
     "output_type": "stream",
     "text": [
      "ответ на Вопрос № 6 найден:  239    Avatar\n",
      "Name: original_title, dtype: object\n"
     ]
    }
   ],
   "source": [
    "answers['Ответ на вопрос '+str(i)]=data[data.profit==data.profit.max()].original_title\n",
    "print(f'ответ на Вопрос № {i} найден: ',answers['Ответ на вопрос '+str(i)])\n",
    "i+=1"
   ]
  },
  {
   "cell_type": "markdown",
   "metadata": {
    "colab_type": "text",
    "id": "M99JmIX4Vp-2"
   },
   "source": [
    "# 7. Какой фильм самый убыточный? "
   ]
  },
  {
   "cell_type": "code",
   "execution_count": 33,
   "metadata": {
    "colab": {},
    "colab_type": "code",
    "id": "w-D2m4XPVp-3"
   },
   "outputs": [
    {
     "name": "stdout",
     "output_type": "stream",
     "text": [
      "ответ на Вопрос № 7 найден:  1245    The Lone Ranger\n",
      "Name: original_title, dtype: object\n"
     ]
    }
   ],
   "source": [
    "answers['Ответ на вопрос '+str(i)]=data[data.profit==data.profit.min()].original_title\n",
    "print(f'ответ на Вопрос № {i} найден: ',answers['Ответ на вопрос '+str(i)])\n",
    "i+=1"
   ]
  },
  {
   "cell_type": "markdown",
   "metadata": {
    "colab_type": "text",
    "id": "wEOM5ERVVp-6"
   },
   "source": [
    "# 8. У скольких фильмов из датасета объем сборов оказался выше бюджета?"
   ]
  },
  {
   "cell_type": "code",
   "execution_count": 34,
   "metadata": {
    "colab": {},
    "colab_type": "code",
    "id": "y00_7HD6Vp-7"
   },
   "outputs": [
    {
     "name": "stdout",
     "output_type": "stream",
     "text": [
      "ответ на Вопрос № 8 найден:  1478\n"
     ]
    }
   ],
   "source": [
    "answers['Ответ на вопрос '+str(i)]=data[data.revenue>data.budget].original_title.count()\n",
    "print(f'ответ на Вопрос № {i} найден: ',answers['Ответ на вопрос '+str(i)])\n",
    "i+=1"
   ]
  },
  {
   "cell_type": "markdown",
   "metadata": {
    "colab_type": "text",
    "id": "xhpspA9KVp_A"
   },
   "source": [
    "# 9. Какой фильм оказался самым кассовым в 2008 году?"
   ]
  },
  {
   "cell_type": "code",
   "execution_count": 35,
   "metadata": {
    "colab": {},
    "colab_type": "code",
    "id": "MoUyQr9RVp_B"
   },
   "outputs": [
    {
     "name": "stdout",
     "output_type": "stream",
     "text": [
      "ответ на Вопрос № 9 найден:  599    The Dark Knight\n",
      "Name: original_title, dtype: object\n"
     ]
    }
   ],
   "source": [
    "answers['Ответ на вопрос '+str(i)]=data.iloc[data[data.release_year==2008].revenue.sort_values(ascending=False).head(1)\n",
    "    .index].original_title\n",
    "print(f'ответ на Вопрос № {i} найден: ',answers['Ответ на вопрос '+str(i)])\n",
    "i+=1"
   ]
  },
  {
   "cell_type": "markdown",
   "metadata": {
    "colab_type": "text",
    "id": "Zi4hDKidVp_F"
   },
   "source": [
    "# 10. Самый убыточный фильм за период с 2012 по 2014 г. (включительно)?\n"
   ]
  },
  {
   "cell_type": "code",
   "execution_count": 36,
   "metadata": {
    "colab": {},
    "colab_type": "code",
    "id": "XqyRmufJVp_F"
   },
   "outputs": [
    {
     "name": "stdout",
     "output_type": "stream",
     "text": [
      "ответ на Вопрос № 10 найден:  1245    The Lone Ranger\n",
      "Name: original_title, dtype: object\n"
     ]
    }
   ],
   "source": [
    "tmp_df=data[(data.release_year>=2012)&(data.release_year<=2014)]\n",
    "answers['Ответ на вопрос '+str(i)]=tmp_df[tmp_df.profit==tmp_df.profit.min()].original_title\n",
    "print(f'ответ на Вопрос № {i} найден: ',answers['Ответ на вопрос '+str(i)])\n",
    "i+=1"
   ]
  },
  {
   "cell_type": "markdown",
   "metadata": {
    "colab_type": "text",
    "id": "EA7Sa9dkVp_I"
   },
   "source": [
    "# 11. Какого жанра фильмов больше всего?"
   ]
  },
  {
   "cell_type": "code",
   "execution_count": 37,
   "metadata": {
    "colab": {},
    "colab_type": "code",
    "id": "zsJAwJ8QVp_J"
   },
   "outputs": [
    {
     "name": "stdout",
     "output_type": "stream",
     "text": [
      "ответ на Вопрос № 11 найден:  Drama    782\n",
      "Name: counts, dtype: int64\n"
     ]
    }
   ],
   "source": [
    "answers['Ответ на вопрос '+str(i)]=genres_df[genres_df.counts==genres_df.counts.max()].counts\n",
    "print(f'ответ на Вопрос № {i} найден: ',answers['Ответ на вопрос '+str(i)])\n",
    "i+=1"
   ]
  },
  {
   "cell_type": "markdown",
   "metadata": {
    "colab_type": "text",
    "id": "T9_bPWpkVp_Q"
   },
   "source": [
    "# 12. Фильмы какого жанра чаще всего становятся прибыльными? "
   ]
  },
  {
   "cell_type": "code",
   "execution_count": 38,
   "metadata": {
    "colab": {},
    "colab_type": "code",
    "id": "Tmt8MaK1Vp_R"
   },
   "outputs": [
    {
     "name": "stdout",
     "output_type": "stream",
     "text": [
      "ответ на Вопрос № 12 найден:  Drama    560\n",
      "Name: profit, dtype: int64\n"
     ]
    }
   ],
   "source": [
    "answers['Ответ на вопрос '+str(i)]=genres_df[genres_df.profit==genres_df.profit.max()].profit\n",
    "print(f'ответ на Вопрос № {i} найден: ',answers['Ответ на вопрос '+str(i)])\n",
    "i+=1"
   ]
  },
  {
   "cell_type": "markdown",
   "metadata": {
    "colab_type": "text",
    "id": "0F23bgsDVp_U"
   },
   "source": [
    "# 13. У какого режиссера самые большие суммарные кассовые сборы?"
   ]
  },
  {
   "cell_type": "code",
   "execution_count": 40,
   "metadata": {
    "colab": {},
    "colab_type": "code",
    "id": "K6Z3J8ygVp_X"
   },
   "outputs": [
    {
     "name": "stdout",
     "output_type": "stream",
     "text": [
      "ответ на Вопрос № 13 найден:  Peter Jackson    6490593685\n",
      "Name: summ_revenue, dtype: int64\n"
     ]
    }
   ],
   "source": [
    "answers['Ответ на вопрос '+str(i)]=director_df[director_df.summ_revenue==director_df.summ_revenue.max()].summ_revenue\n",
    "print(f'ответ на Вопрос № {i} найден: ',answers['Ответ на вопрос '+str(i)])\n",
    "i+=1"
   ]
  },
  {
   "cell_type": "markdown",
   "metadata": {
    "colab_type": "text",
    "id": "PsYC9FgRVp_a"
   },
   "source": [
    "# 14. Какой режисер снял больше всего фильмов в стиле Action?"
   ]
  },
  {
   "cell_type": "code",
   "execution_count": 41,
   "metadata": {
    "colab": {},
    "colab_type": "code",
    "id": "wd2M-wHeVp_b"
   },
   "outputs": [
    {
     "name": "stdout",
     "output_type": "stream",
     "text": [
      "ответ на Вопрос № 14 найден:  Robert Rodriguez    9\n",
      "Name: Act_count, dtype: int64\n"
     ]
    }
   ],
   "source": [
    "director_df['Act_count']=pd.DataFrame.from_dict(count_smt(director_df.index,'Action',data.director,data.genres)\n",
    "                                                , orient='index')\n",
    "answers['Ответ на вопрос '+str(i)]=director_df[director_df.Act_count==director_df.Act_count.max()].Act_count\n",
    "print(f'ответ на Вопрос № {i} найден: ',answers['Ответ на вопрос '+str(i)])\n",
    "i+=1"
   ]
  },
  {
   "cell_type": "markdown",
   "metadata": {
    "colab_type": "text",
    "id": "PQ0KciD7Vp_f"
   },
   "source": [
    "# 15. Фильмы с каким актером принесли самые высокие кассовые сборы в 2012 году? "
   ]
  },
  {
   "cell_type": "code",
   "execution_count": 42,
   "metadata": {
    "colab": {},
    "colab_type": "code",
    "id": "aga62oeKVp_g"
   },
   "outputs": [
    {
     "name": "stdout",
     "output_type": "stream",
     "text": [
      "ответ на Вопрос № 15 найден:  Chris Hemsworth    2027450773\n",
      "Name: summ_revenue_2012, dtype: int64\n"
     ]
    }
   ],
   "source": [
    "answers['Ответ на вопрос '+str(i)]=actors_df[actors_df.summ_revenue_2012==actors_df.summ_revenue_2012.max()]\\\n",
    "    .summ_revenue_2012\n",
    "print(f'ответ на Вопрос № {i} найден: ',answers['Ответ на вопрос '+str(i)])\n",
    "i+=1"
   ]
  },
  {
   "cell_type": "markdown",
   "metadata": {
    "colab_type": "text",
    "id": "mWHyyL7QVp_j"
   },
   "source": [
    "# 16. Какой актер снялся в большем количестве высокобюджетных фильмов?"
   ]
  },
  {
   "cell_type": "code",
   "execution_count": 43,
   "metadata": {
    "colab": {},
    "colab_type": "code",
    "id": "qQtmHKTFVp_k"
   },
   "outputs": [
    {
     "name": "stdout",
     "output_type": "stream",
     "text": [
      "ответ на Вопрос № 16 найден:  Matt Damon    18\n",
      "Name: hight_budget_count, dtype: int64\n"
     ]
    }
   ],
   "source": [
    "actors_df['hight_budget_count']=pd.DataFrame.from_dict(summ_values(actors_df.index,data[data.budget>=data.budget.mean()].cast\n",
    "                                      ,data[data.budget>=data.budget.mean()].original_title), orient='index')\n",
    "answers['Ответ на вопрос '+str(i)]=actors_df[actors_df.hight_budget_count==actors_df.hight_budget_count.max()].hight_budget_count\n",
    "print(f'ответ на Вопрос № {i} найден: ',answers['Ответ на вопрос '+str(i)])\n",
    "i+=1"
   ]
  },
  {
   "cell_type": "markdown",
   "metadata": {
    "colab_type": "text",
    "id": "NIh6AaW5Vp_n"
   },
   "source": [
    "# 17. В фильмах какого жанра больше всего снимался Nicolas Cage? "
   ]
  },
  {
   "cell_type": "code",
   "execution_count": 44,
   "metadata": {
    "colab": {},
    "colab_type": "code",
    "id": "H74SJDIBVp_n"
   },
   "outputs": [
    {
     "name": "stdout",
     "output_type": "stream",
     "text": [
      "ответ на Вопрос № 17 найден:  Action    17\n",
      "Name: NC, dtype: int64\n"
     ]
    }
   ],
   "source": [
    "genres_df['NC']=pd.DataFrame.from_dict(count_smt(genres_df.index,'Nicolas Cage',data.genres,data.cast)\n",
    "                                                , orient='index')\n",
    "answers['Ответ на вопрос '+str(i)]=genres_df[genres_df.NC==genres_df.NC.max()].NC\n",
    "print(f'ответ на Вопрос № {i} найден: ',answers['Ответ на вопрос '+str(i)])\n",
    "i+=1"
   ]
  },
  {
   "cell_type": "markdown",
   "metadata": {
    "colab_type": "text",
    "id": "RqOmPRfWVp_q"
   },
   "source": [
    "# 18. Самый убыточный фильм от Paramount Pictures"
   ]
  },
  {
   "cell_type": "code",
   "execution_count": 45,
   "metadata": {
    "colab": {},
    "colab_type": "code",
    "id": "9E_B0Y96Vp_r"
   },
   "outputs": [
    {
     "name": "stdout",
     "output_type": "stream",
     "text": [
      "ответ на Вопрос № 18 найден:  925    K-19: The Widowmaker\n",
      "Name: original_title, dtype: object\n"
     ]
    }
   ],
   "source": [
    "answers['Ответ на вопрос '+str(i)]=pmp_df[pmp_df.profit==pmp_df.profit.min()].original_title\n",
    "print(f'ответ на Вопрос № {i} найден: ',answers['Ответ на вопрос '+str(i)])\n",
    "i+=1"
   ]
  },
  {
   "cell_type": "markdown",
   "metadata": {
    "colab_type": "text",
    "id": "vS8Ur6ddVp_u"
   },
   "source": [
    "# 19. Какой год стал самым успешным по суммарным кассовым сборам?"
   ]
  },
  {
   "cell_type": "code",
   "execution_count": 46,
   "metadata": {
    "colab": {},
    "colab_type": "code",
    "id": "Dnbt4GdIVp_v"
   },
   "outputs": [
    {
     "name": "stdout",
     "output_type": "stream",
     "text": [
      "ответ на Вопрос № 19 найден:  release_year\n",
      "2015    25449202382\n",
      "Name: revenue, dtype: int64\n"
     ]
    }
   ],
   "source": [
    "best_year=data.groupby('release_year')['revenue'].sum()\n",
    "answers['Ответ на вопрос '+str(i)]=best_year[best_year==best_year.max()]\n",
    "print(f'ответ на Вопрос № {i} найден: ',answers['Ответ на вопрос '+str(i)])\n",
    "i+=1"
   ]
  },
  {
   "cell_type": "markdown",
   "metadata": {
    "colab_type": "text",
    "id": "JAzJh4QAVp_z"
   },
   "source": [
    "# 20. Какой самый прибыльный год для студии Warner Bros?"
   ]
  },
  {
   "cell_type": "code",
   "execution_count": 47,
   "metadata": {
    "colab": {},
    "colab_type": "code",
    "id": "wgVu02DEVp_0"
   },
   "outputs": [
    {
     "name": "stdout",
     "output_type": "stream",
     "text": [
      "ответ на Вопрос № 20 найден:  release_year\n",
      "2014    2295464519\n",
      "Name: profit, dtype: int64\n"
     ]
    }
   ],
   "source": [
    "best_year_wb=data[data.production_companies.str.contains('Warner Bros')].groupby('release_year')['profit'].sum()\n",
    "answers['Ответ на вопрос '+str(i)]=best_year_wb[best_year_wb==best_year_wb.max()]\n",
    "print(f'ответ на Вопрос № {i} найден: ',answers['Ответ на вопрос '+str(i)])\n",
    "i+=1"
   ]
  },
  {
   "cell_type": "markdown",
   "metadata": {
    "colab_type": "text",
    "id": "8Im1S2HRVp_4"
   },
   "source": [
    "# 21. В каком месяце за все годы суммарно вышло больше всего фильмов?"
   ]
  },
  {
   "cell_type": "code",
   "execution_count": 48,
   "metadata": {
    "colab": {},
    "colab_type": "code",
    "id": "lev6TH7gVp_4"
   },
   "outputs": [
    {
     "name": "stdout",
     "output_type": "stream",
     "text": [
      "ответ на Вопрос № 21 найден:  month\n",
      "09    227\n",
      "Name: imdb_id, dtype: int64\n"
     ]
    }
   ],
   "source": [
    "best_month=data.groupby('month')['imdb_id'].count()\n",
    "answers['Ответ на вопрос '+str(i)]=best_month[best_month==best_month.max()]\n",
    "print(f'ответ на Вопрос № {i} найден: ',answers['Ответ на вопрос '+str(i)])\n",
    "i+=1"
   ]
  },
  {
   "cell_type": "markdown",
   "metadata": {
    "colab_type": "text",
    "id": "uAJsZ_NeVp_7"
   },
   "source": [
    "# 22. Сколько суммарно вышло фильмов летом? (за июнь, июль, август)"
   ]
  },
  {
   "cell_type": "code",
   "execution_count": 50,
   "metadata": {
    "colab": {},
    "colab_type": "code",
    "id": "Aa-hEREoVp_8"
   },
   "outputs": [
    {
     "name": "stdout",
     "output_type": "stream",
     "text": [
      "ответ на Вопрос № 21 найден:  450\n"
     ]
    }
   ],
   "source": [
    "i-=1\n",
    "answers['Ответ на вопрос '+str(i)]=best_month[['06','07','08']].sum()\n",
    "print(f'ответ на Вопрос № {i} найден: ',answers['Ответ на вопрос '+str(i)])\n",
    "i+=1"
   ]
  },
  {
   "cell_type": "markdown",
   "metadata": {
    "colab_type": "text",
    "id": "G94ppOY1VqAA"
   },
   "source": [
    "# 23. Для какого режиссера зима – самое продуктивное время года? "
   ]
  },
  {
   "cell_type": "code",
   "execution_count": 51,
   "metadata": {
    "colab": {},
    "colab_type": "code",
    "id": "RhNTsamuVqAB"
   },
   "outputs": [
    {
     "name": "stdout",
     "output_type": "stream",
     "text": [
      "ответ на Вопрос № 22 найден:  Peter Jackson    7\n",
      "Name: films_count, dtype: int64\n"
     ]
    }
   ],
   "source": [
    "director_df['films_count']=pd.DataFrame.from_dict(summ_values(director_df.index,data[(data.month=='12')\n",
    "                                                                                     |(data.month=='01')\n",
    "                                                                                     |(data.month=='02')]\n",
    "                                        .director,data[(data.month=='12')|(data.month=='01')|(data.month=='02')]\n",
    "                                        .original_title), orient='index')\n",
    "answers['Ответ на вопрос '+str(i)]=director_df[director_df.films_count==director_df.films_count.max()].films_count\n",
    "print(f'ответ на Вопрос № {i} найден: ',answers['Ответ на вопрос '+str(i)])\n",
    "i+=1"
   ]
  },
  {
   "cell_type": "markdown",
   "metadata": {
    "colab_type": "text",
    "id": "RBo0JVjVVqAF"
   },
   "source": [
    "# 24. Какая студия дает самые длинные названия своим фильмам по количеству символов?"
   ]
  },
  {
   "cell_type": "code",
   "execution_count": 52,
   "metadata": {
    "colab": {},
    "colab_type": "code",
    "id": "QRGS8L0iVqAG"
   },
   "outputs": [
    {
     "name": "stdout",
     "output_type": "stream",
     "text": [
      "ответ на Вопрос № 23 найден:  Four By Two Productions    72.0\n",
      "Name: mid_title_len, dtype: float64\n"
     ]
    }
   ],
   "source": [
    "tmp_df=pd.DataFrame.from_dict(mid_len(prod_comp_df.index,data.production_companies,data.original_title), orient='index')\n",
    "prod_comp_df['mid_title_len']=[tmp_df.iloc[i][0]/prod_comp_df.iloc[i].counts for i in range(len(tmp_df))]\n",
    "answers['Ответ на вопрос '+str(i)]=prod_comp_df[(prod_comp_df.mid_title_len==prod_comp_df.mid_title_len.max())]\\\n",
    "    .mid_title_len\n",
    "print(f'ответ на Вопрос № {i} найден: ',answers['Ответ на вопрос '+str(i)])\n",
    "i+=1"
   ]
  },
  {
   "cell_type": "markdown",
   "metadata": {
    "colab_type": "text",
    "id": "9G0hbvR7VqAK"
   },
   "source": [
    "# 25. Описание фильмов какой студии в среднем самые длинные по количеству слов?"
   ]
  },
  {
   "cell_type": "code",
   "execution_count": 53,
   "metadata": {
    "colab": {},
    "colab_type": "code",
    "id": "Ge2GsLNxVqAK"
   },
   "outputs": [
    {
     "name": "stdout",
     "output_type": "stream",
     "text": [
      "ответ на Вопрос № 24 найден:  Midnight Picture Show    175.0\n",
      "Name: mid_overview_words, dtype: float64\n"
     ]
    }
   ],
   "source": [
    "tmp_df=pd.DataFrame.from_dict(mid_len(prod_comp_df.index,data.production_companies,data.overview,'word'), orient='index')\n",
    "prod_comp_df['mid_overview_words']=[tmp_df.iloc[i][0]/prod_comp_df.iloc[i].counts for i in range(len(tmp_df))]\n",
    "answers['Ответ на вопрос '+str(i)]=prod_comp_df[(prod_comp_df.mid_overview_words==prod_comp_df.mid_overview_words.max())]\\\n",
    "    .mid_overview_words\n",
    "print(f'ответ на Вопрос № {i} найден: ',answers['Ответ на вопрос '+str(i)])\n",
    "i+=1"
   ]
  },
  {
   "cell_type": "markdown",
   "metadata": {
    "colab_type": "text",
    "id": "FJ1AFt90VqAP"
   },
   "source": [
    "# 26. Какие фильмы входят в 1 процент лучших по рейтингу? \n",
    "по vote_average"
   ]
  },
  {
   "cell_type": "code",
   "execution_count": 54,
   "metadata": {
    "colab": {},
    "colab_type": "code",
    "id": "8qmJVq4CVqAQ"
   },
   "outputs": [
    {
     "name": "stdout",
     "output_type": "stream",
     "text": [
      "ответ на Вопрос № 25 найден:                                       original_title  vote_average\n",
      "599                                 The Dark Knight           8.1\n",
      "118                                    Interstellar           8.0\n",
      "125                              The Imitation Game           8.0\n",
      "9                                        Inside Out           8.0\n",
      "34                                             Room           8.0\n",
      "1183                        The Wolf of Wall Street           7.9\n",
      "128                                       Gone Girl           7.9\n",
      "1191                               12 Years a Slave           7.9\n",
      "119                         Guardians of the Galaxy           7.9\n",
      "1081  The Lord of the Rings: The Return of the King           7.9\n",
      "1800                                        Memento           7.9\n",
      "370                                       Inception           7.9\n",
      "872                                     The Pianist           7.9\n",
      "138                        The Grand Budapest Hotel           7.9\n",
      "1188                                            Her           7.8\n",
      "28                                        Spotlight           7.8\n",
      "124                                      Big Hero 6           7.8\n",
      "177                          The Fault in Our Stars           7.8\n"
     ]
    }
   ],
   "source": [
    "answers['Ответ на вопрос '+str(i)]=data[['original_title','vote_average']].sort_values(['vote_average']\n",
    "                                                                            ,ascending=False,).head(int(len(data)*0.01))\n",
    "print(f'ответ на Вопрос № {i} найден: ',answers['Ответ на вопрос '+str(i)])\n",
    "i+=1"
   ]
  },
  {
   "cell_type": "markdown",
   "metadata": {
    "colab_type": "text",
    "id": "MdXsUXbCVqAV"
   },
   "source": [
    "# 27. Какие актеры чаще всего снимаются в одном фильме вместе?\n"
   ]
  },
  {
   "cell_type": "code",
   "execution_count": 55,
   "metadata": {},
   "outputs": [
    {
     "name": "stdout",
     "output_type": "stream",
     "text": [
      "ответ на Вопрос № 26 найден:  Index(['Daniel Radcliffe', 'Emma Watson', 'Rupert Grint'], dtype='object')\n"
     ]
    }
   ],
   "source": [
    "tmp_df=friends(actors_df.index,data.cast)\n",
    "tmp_df['max_counts']=tmp_df.max(axis='index')\n",
    "answers['Ответ на вопрос '+str(i)]=tmp_df[tmp_df.max_counts==tmp_df.max_counts.max()].index\n",
    "print(f'ответ на Вопрос № {i} найден: ',answers['Ответ на вопрос '+str(i)])"
   ]
  },
  {
   "cell_type": "code",
   "execution_count": 56,
   "metadata": {
    "colab": {},
    "colab_type": "code",
    "id": "Vwx3NrkSVqAl"
   },
   "outputs": [
    {
     "data": {
      "text/plain": [
       "{'Ответ на вопрос 1': 723    Pirates of the Caribbean: On Stranger Tides\n",
       " Name: original_title, dtype: object,\n",
       " 'Ответ на вопрос 2': 1157    Gods and Generals\n",
       " Name: original_title, dtype: object,\n",
       " 'Ответ на вопрос 3': 768    Winnie the Pooh\n",
       " Name: original_title, dtype: object,\n",
       " 'Ответ на вопрос 4': 110,\n",
       " 'Ответ на вопрос 5': 107,\n",
       " 'Ответ на вопрос 6': 239    Avatar\n",
       " Name: original_title, dtype: object,\n",
       " 'Ответ на вопрос 7': 1245    The Lone Ranger\n",
       " Name: original_title, dtype: object,\n",
       " 'Ответ на вопрос 8': 1478,\n",
       " 'Ответ на вопрос 9': 599    The Dark Knight\n",
       " Name: original_title, dtype: object,\n",
       " 'Ответ на вопрос 10': 1245    The Lone Ranger\n",
       " Name: original_title, dtype: object,\n",
       " 'Ответ на вопрос 11': Drama    782\n",
       " Name: counts, dtype: int64,\n",
       " 'Ответ на вопрос 12': Drama    560\n",
       " Name: profit, dtype: int64,\n",
       " 'Ответ на вопрос 13': Peter Jackson    6490593685\n",
       " Name: summ_revenue, dtype: int64,\n",
       " 'Ответ на вопрос 14': Robert Rodriguez    9\n",
       " Name: Act_count, dtype: int64,\n",
       " 'Ответ на вопрос 15': Chris Hemsworth    2027450773\n",
       " Name: summ_revenue_2012, dtype: int64,\n",
       " 'Ответ на вопрос 16': Matt Damon    18\n",
       " Name: hight_budget_count, dtype: int64,\n",
       " 'Ответ на вопрос 17': Action    17\n",
       " Name: NC, dtype: int64,\n",
       " 'Ответ на вопрос 18': 925    K-19: The Widowmaker\n",
       " Name: original_title, dtype: object,\n",
       " 'Ответ на вопрос 19': release_year\n",
       " 2015    25449202382\n",
       " Name: revenue, dtype: int64,\n",
       " 'Ответ на вопрос 20': release_year\n",
       " 2014    2295464519\n",
       " Name: profit, dtype: int64,\n",
       " 'Ответ на вопрос 21': 450,\n",
       " 'Ответ на вопрос 22': Peter Jackson    7\n",
       " Name: films_count, dtype: int64,\n",
       " 'Ответ на вопрос 23': Four By Two Productions    72.0\n",
       " Name: mid_title_len, dtype: float64,\n",
       " 'Ответ на вопрос 24': Midnight Picture Show    175.0\n",
       " Name: mid_overview_words, dtype: float64,\n",
       " 'Ответ на вопрос 25':                                      original_title  vote_average\n",
       " 599                                 The Dark Knight           8.1\n",
       " 118                                    Interstellar           8.0\n",
       " 125                              The Imitation Game           8.0\n",
       " 9                                        Inside Out           8.0\n",
       " 34                                             Room           8.0\n",
       " 1183                        The Wolf of Wall Street           7.9\n",
       " 128                                       Gone Girl           7.9\n",
       " 1191                               12 Years a Slave           7.9\n",
       " 119                         Guardians of the Galaxy           7.9\n",
       " 1081  The Lord of the Rings: The Return of the King           7.9\n",
       " 1800                                        Memento           7.9\n",
       " 370                                       Inception           7.9\n",
       " 872                                     The Pianist           7.9\n",
       " 138                        The Grand Budapest Hotel           7.9\n",
       " 1188                                            Her           7.8\n",
       " 28                                        Spotlight           7.8\n",
       " 124                                      Big Hero 6           7.8\n",
       " 177                          The Fault in Our Stars           7.8,\n",
       " 'Ответ на вопрос 26': Index(['Daniel Radcliffe', 'Emma Watson', 'Rupert Grint'], dtype='object'),\n",
       " 'Ответ на вопрос 27': None}"
      ]
     },
     "metadata": {},
     "output_type": "display_data"
    }
   ],
   "source": [
    "with pd.option_context('display.max_rows', None, 'display.max_columns', None):\n",
    "    display(answers)"
   ]
  },
  {
   "cell_type": "code",
   "execution_count": null,
   "metadata": {},
   "outputs": [],
   "source": []
  }
 ],
 "metadata": {
  "colab": {
   "name": "Copy of [SF-DST] Movies IMBD v4.1 TEMPLATE.ipynb",
   "provenance": []
  },
  "kernelspec": {
   "display_name": "Python 3",
   "language": "python",
   "name": "python3"
  },
  "language_info": {
   "codemirror_mode": {
    "name": "ipython",
    "version": 3
   },
   "file_extension": ".py",
   "mimetype": "text/x-python",
   "name": "python",
   "nbconvert_exporter": "python",
   "pygments_lexer": "ipython3",
   "version": "3.8.5"
  }
 },
 "nbformat": 4,
 "nbformat_minor": 1
}
